{
 "cells": [
  {
   "cell_type": "markdown",
   "metadata": {},
   "source": [
    "## Stock Price Predictor"
   ]
  },
  {
   "cell_type": "code",
   "execution_count": 1,
   "metadata": {},
   "outputs": [],
   "source": [
    "import numpy as np\n",
    "import pandas as pd\n",
    "\n",
    "import yfinance as yf\n",
    "\n",
    "import seaborn as sns\n",
    "import matplotlib.pyplot as plt\n",
    "import warnings\n",
    "warnings.filterwarnings('ignore')"
   ]
  },
  {
   "cell_type": "code",
   "execution_count": 2,
   "metadata": {},
   "outputs": [
    {
     "name": "stdout",
     "output_type": "stream",
     "text": [
      "[*********************100%***********************]  1 of 1 completed\n"
     ]
    },
    {
     "data": {
      "text/html": [
       "<div>\n",
       "<style scoped>\n",
       "    .dataframe tbody tr th:only-of-type {\n",
       "        vertical-align: middle;\n",
       "    }\n",
       "\n",
       "    .dataframe tbody tr th {\n",
       "        vertical-align: top;\n",
       "    }\n",
       "\n",
       "    .dataframe thead th {\n",
       "        text-align: right;\n",
       "    }\n",
       "</style>\n",
       "<table border=\"1\" class=\"dataframe\">\n",
       "  <thead>\n",
       "    <tr style=\"text-align: right;\">\n",
       "      <th></th>\n",
       "      <th>Open</th>\n",
       "      <th>High</th>\n",
       "      <th>Low</th>\n",
       "      <th>Close</th>\n",
       "      <th>Volume</th>\n",
       "    </tr>\n",
       "    <tr>\n",
       "      <th>Date</th>\n",
       "      <th></th>\n",
       "      <th></th>\n",
       "      <th></th>\n",
       "      <th></th>\n",
       "      <th></th>\n",
       "    </tr>\n",
       "  </thead>\n",
       "  <tbody>\n",
       "    <tr>\n",
       "      <th>2007-12-31</th>\n",
       "      <td>843.200012</td>\n",
       "      <td>843.200012</td>\n",
       "      <td>843.200012</td>\n",
       "      <td>834.900024</td>\n",
       "      <td>4</td>\n",
       "    </tr>\n",
       "    <tr>\n",
       "      <th>2008-01-02</th>\n",
       "      <td>848.700012</td>\n",
       "      <td>857.799988</td>\n",
       "      <td>846.400024</td>\n",
       "      <td>857.000000</td>\n",
       "      <td>130</td>\n",
       "    </tr>\n",
       "    <tr>\n",
       "      <th>2008-01-03</th>\n",
       "      <td>863.000000</td>\n",
       "      <td>865.500000</td>\n",
       "      <td>856.299988</td>\n",
       "      <td>866.400024</td>\n",
       "      <td>181</td>\n",
       "    </tr>\n",
       "    <tr>\n",
       "      <th>2008-01-04</th>\n",
       "      <td>861.400024</td>\n",
       "      <td>865.500000</td>\n",
       "      <td>860.200012</td>\n",
       "      <td>863.099976</td>\n",
       "      <td>28</td>\n",
       "    </tr>\n",
       "    <tr>\n",
       "      <th>2008-01-07</th>\n",
       "      <td>860.900024</td>\n",
       "      <td>860.900024</td>\n",
       "      <td>857.400024</td>\n",
       "      <td>859.599976</td>\n",
       "      <td>4</td>\n",
       "    </tr>\n",
       "  </tbody>\n",
       "</table>\n",
       "</div>"
      ],
      "text/plain": [
       "                  Open        High         Low       Close  Volume\n",
       "Date                                                              \n",
       "2007-12-31  843.200012  843.200012  843.200012  834.900024       4\n",
       "2008-01-02  848.700012  857.799988  846.400024  857.000000     130\n",
       "2008-01-03  863.000000  865.500000  856.299988  866.400024     181\n",
       "2008-01-04  861.400024  865.500000  860.200012  863.099976      28\n",
       "2008-01-07  860.900024  860.900024  857.400024  859.599976       4"
      ]
     },
     "execution_count": 2,
     "metadata": {},
     "output_type": "execute_result"
    }
   ],
   "source": [
    "stock = input('Enter the code of the Stock: ')\n",
    "data = yf.download(stock, \"2008-01-01\", \"2021-11-27\", auto_adjust=True)\n",
    "data.head()"
   ]
  },
  {
   "cell_type": "code",
   "execution_count": 3,
   "metadata": {},
   "outputs": [
    {
     "data": {
      "text/plain": [
       "(3472, 5)"
      ]
     },
     "execution_count": 3,
     "metadata": {},
     "output_type": "execute_result"
    }
   ],
   "source": [
    "data.shape"
   ]
  },
  {
   "cell_type": "code",
   "execution_count": 4,
   "metadata": {},
   "outputs": [
    {
     "name": "stdout",
     "output_type": "stream",
     "text": [
      "<class 'pandas.core.frame.DataFrame'>\n",
      "DatetimeIndex: 3472 entries, 2007-12-31 to 2021-11-24\n",
      "Data columns (total 5 columns):\n",
      " #   Column  Non-Null Count  Dtype  \n",
      "---  ------  --------------  -----  \n",
      " 0   Open    3472 non-null   float64\n",
      " 1   High    3472 non-null   float64\n",
      " 2   Low     3472 non-null   float64\n",
      " 3   Close   3472 non-null   float64\n",
      " 4   Volume  3472 non-null   int64  \n",
      "dtypes: float64(4), int64(1)\n",
      "memory usage: 162.8 KB\n"
     ]
    }
   ],
   "source": [
    "data.info()"
   ]
  },
  {
   "cell_type": "code",
   "execution_count": 5,
   "metadata": {},
   "outputs": [
    {
     "data": {
      "text/html": [
       "<div>\n",
       "<style scoped>\n",
       "    .dataframe tbody tr th:only-of-type {\n",
       "        vertical-align: middle;\n",
       "    }\n",
       "\n",
       "    .dataframe tbody tr th {\n",
       "        vertical-align: top;\n",
       "    }\n",
       "\n",
       "    .dataframe thead th {\n",
       "        text-align: right;\n",
       "    }\n",
       "</style>\n",
       "<table border=\"1\" class=\"dataframe\">\n",
       "  <thead>\n",
       "    <tr style=\"text-align: right;\">\n",
       "      <th></th>\n",
       "      <th>Open</th>\n",
       "      <th>High</th>\n",
       "      <th>Low</th>\n",
       "      <th>Close</th>\n",
       "      <th>Volume</th>\n",
       "    </tr>\n",
       "  </thead>\n",
       "  <tbody>\n",
       "    <tr>\n",
       "      <th>count</th>\n",
       "      <td>3472.000000</td>\n",
       "      <td>3472.000000</td>\n",
       "      <td>3472.000000</td>\n",
       "      <td>3472.000000</td>\n",
       "      <td>3472.000000</td>\n",
       "    </tr>\n",
       "    <tr>\n",
       "      <th>mean</th>\n",
       "      <td>1346.085628</td>\n",
       "      <td>1353.276037</td>\n",
       "      <td>1338.214516</td>\n",
       "      <td>1345.836780</td>\n",
       "      <td>5466.944988</td>\n",
       "    </tr>\n",
       "    <tr>\n",
       "      <th>std</th>\n",
       "      <td>279.768934</td>\n",
       "      <td>281.004249</td>\n",
       "      <td>278.400947</td>\n",
       "      <td>279.820950</td>\n",
       "      <td>29219.914127</td>\n",
       "    </tr>\n",
       "    <tr>\n",
       "      <th>min</th>\n",
       "      <td>705.000000</td>\n",
       "      <td>715.500000</td>\n",
       "      <td>681.000000</td>\n",
       "      <td>704.900024</td>\n",
       "      <td>0.000000</td>\n",
       "    </tr>\n",
       "    <tr>\n",
       "      <th>25%</th>\n",
       "      <td>1192.574982</td>\n",
       "      <td>1197.875031</td>\n",
       "      <td>1186.250031</td>\n",
       "      <td>1193.149963</td>\n",
       "      <td>43.000000</td>\n",
       "    </tr>\n",
       "    <tr>\n",
       "      <th>50%</th>\n",
       "      <td>1292.099976</td>\n",
       "      <td>1296.549988</td>\n",
       "      <td>1286.799988</td>\n",
       "      <td>1292.549988</td>\n",
       "      <td>141.000000</td>\n",
       "    </tr>\n",
       "    <tr>\n",
       "      <th>75%</th>\n",
       "      <td>1569.300049</td>\n",
       "      <td>1577.199982</td>\n",
       "      <td>1557.550049</td>\n",
       "      <td>1567.100006</td>\n",
       "      <td>457.000000</td>\n",
       "    </tr>\n",
       "    <tr>\n",
       "      <th>max</th>\n",
       "      <td>2045.500000</td>\n",
       "      <td>2063.000000</td>\n",
       "      <td>2040.000000</td>\n",
       "      <td>2051.500000</td>\n",
       "      <td>386334.000000</td>\n",
       "    </tr>\n",
       "  </tbody>\n",
       "</table>\n",
       "</div>"
      ],
      "text/plain": [
       "              Open         High          Low        Close         Volume\n",
       "count  3472.000000  3472.000000  3472.000000  3472.000000    3472.000000\n",
       "mean   1346.085628  1353.276037  1338.214516  1345.836780    5466.944988\n",
       "std     279.768934   281.004249   278.400947   279.820950   29219.914127\n",
       "min     705.000000   715.500000   681.000000   704.900024       0.000000\n",
       "25%    1192.574982  1197.875031  1186.250031  1193.149963      43.000000\n",
       "50%    1292.099976  1296.549988  1286.799988  1292.549988     141.000000\n",
       "75%    1569.300049  1577.199982  1557.550049  1567.100006     457.000000\n",
       "max    2045.500000  2063.000000  2040.000000  2051.500000  386334.000000"
      ]
     },
     "execution_count": 5,
     "metadata": {},
     "output_type": "execute_result"
    }
   ],
   "source": [
    "data.describe()"
   ]
  },
  {
   "cell_type": "code",
   "execution_count": 6,
   "metadata": {},
   "outputs": [
    {
     "data": {
      "image/png": "[encoded data removed]",
      "text/plain": [
       "<Figure size 720x504 with 1 Axes>"
      ]
     },
     "metadata": {
      "needs_background": "light"
     },
     "output_type": "display_data"
    }
   ],
   "source": [
    "data.Close.plot(figsize=(10,7), color='r')\n",
    "plt.xlabel(f\"{stock} Prices\")\n",
    "plt.ylabel(f\"{stock} Prices Series\")\n",
    "plt.show()"
   ]
  },
  {
   "cell_type": "code",
   "execution_count": 7,
   "metadata": {},
   "outputs": [
    {
     "data": {
      "text/plain": [
       "<AxesSubplot:xlabel='Open', ylabel='Density'>"
      ]
     },
     "execution_count": 7,
     "metadata": {},
     "output_type": "execute_result"
    },
    {
     "data": {
      "image/png": "[encoded data removed]",
      "text/plain": [
       "<Figure size 432x288 with 1 Axes>"
      ]
     },
     "metadata": {
      "needs_background": "light"
     },
     "output_type": "display_data"
    }
   ],
   "source": [
    "sns.distplot(data.Open)"
   ]
  },
  {
   "cell_type": "code",
   "execution_count": 8,
   "metadata": {},
   "outputs": [
    {
     "data": {
      "text/plain": [
       "<AxesSubplot:xlabel='High', ylabel='Density'>"
      ]
     },
     "execution_count": 8,
     "metadata": {},
     "output_type": "execute_result"
    },
    {
     "data": {
      "image/png": "[encoded data removed]",
      "text/plain": [
       "<Figure size 432x288 with 1 Axes>"
      ]
     },
     "metadata": {
      "needs_background": "light"
     },
     "output_type": "display_data"
    }
   ],
   "source": [
    "sns.distplot(data.High)"
   ]
  },
  {
   "cell_type": "code",
   "execution_count": 9,
   "metadata": {},
   "outputs": [
    {
     "data": {
      "text/plain": [
       "<AxesSubplot:xlabel='Low', ylabel='Density'>"
      ]
     },
     "execution_count": 9,
     "metadata": {},
     "output_type": "execute_result"
    },
    {
     "data": {
      "image/png": "[encoded data removed]",
      "text/plain": [
       "<Figure size 432x288 with 1 Axes>"
      ]
     },
     "metadata": {
      "needs_background": "light"
     },
     "output_type": "display_data"
    }
   ],
   "source": [
    "sns.distplot(data.Low)"
   ]
  },
  {
   "cell_type": "code",
   "execution_count": 10,
   "metadata": {},
   "outputs": [
    {
     "data": {
      "text/plain": [
       "<AxesSubplot:xlabel='Close', ylabel='Density'>"
      ]
     },
     "execution_count": 10,
     "metadata": {},
     "output_type": "execute_result"
    },
    {
     "data": {
      "image/png": "[encoded data removed]",
      "text/plain": [
       "<Figure size 432x288 with 1 Axes>"
      ]
     },
     "metadata": {
      "needs_background": "light"
     },
     "output_type": "display_data"
    }
   ],
   "source": [
    "sns.distplot(data.Close)"
   ]
  },
  {
   "cell_type": "markdown",
   "metadata": {},
   "source": [
    "### Conlusions\n",
    "- Shape the of the data\n",
    "- How our data is distributed\n",
    "- It's is very very non-linear "
   ]
  },
  {
   "cell_type": "code",
   "execution_count": 11,
   "metadata": {},
   "outputs": [
    {
     "data": {
      "text/plain": [
       "Date\n",
       "2007-12-31     834.900024\n",
       "2008-01-02     857.000000\n",
       "2008-01-03     866.400024\n",
       "2008-01-04     863.099976\n",
       "2008-01-07     859.599976\n",
       "                 ...     \n",
       "2021-11-18    1861.000000\n",
       "2021-11-19    1851.199951\n",
       "2021-11-22    1806.000000\n",
       "2021-11-23    1783.500000\n",
       "2021-11-24    1784.099976\n",
       "Name: Close, Length: 3472, dtype: float64"
      ]
     },
     "execution_count": 11,
     "metadata": {},
     "output_type": "execute_result"
    }
   ],
   "source": [
    "X = data.drop('Close', axis = 1)\n",
    "y = data['Close']\n",
    "y"
   ]
  },
  {
   "cell_type": "markdown",
   "metadata": {},
   "source": [
    "## Training and Testing Dataset"
   ]
  },
  {
   "cell_type": "code",
   "execution_count": 12,
   "metadata": {},
   "outputs": [],
   "source": [
    "from sklearn.model_selection import train_test_split\n",
    "\n",
    "X_train, X_test, y_train, y_test = train_test_split(X, y, test_size = 0.2, random_state=0)"
   ]
  },
  {
   "cell_type": "code",
   "execution_count": 13,
   "metadata": {},
   "outputs": [
    {
     "name": "stdout",
     "output_type": "stream",
     "text": [
      "(2777, 4) (695, 4) (2777,) (695,)\n"
     ]
    }
   ],
   "source": [
    "print(X_train.shape, X_test.shape,y_train.shape,y_test.shape)"
   ]
  },
  {
   "cell_type": "markdown",
   "metadata": {},
   "source": [
    "## Modeling Part"
   ]
  },
  {
   "cell_type": "code",
   "execution_count": 14,
   "metadata": {},
   "outputs": [],
   "source": [
    "from sklearn.linear_model import LinearRegression\n",
    "\n",
    "model_lr = LinearRegression()\n",
    "model_lr.fit(X_train, y_train)\n",
    "pred = model_lr.predict(X_test)"
   ]
  },
  {
   "cell_type": "code",
   "execution_count": 15,
   "metadata": {},
   "outputs": [
    {
     "data": {
      "text/plain": [
       "array([ 860.7886474 , 1296.7794433 , 1477.59805189, 1148.33883581,\n",
       "       1309.61089633, 1503.14687159, 1410.1983535 , 1656.70919586,\n",
       "       1658.49121741, 1168.62932228, 1274.35437372, 1527.72576511,\n",
       "       1237.41722108, 1204.07123594,  981.47705427, 1070.26394939,\n",
       "       1104.02501336, 1306.39578976,  752.47457524, 1625.20608453,\n",
       "       1215.30984931, 1718.99601715,  823.10982702, 1241.02467856,\n",
       "       1292.52940144,  791.07092195, 1348.53268966, 1723.62095686,\n",
       "       1973.60694549, 1629.50964615, 1277.65771771, 1944.87908718,\n",
       "        902.3433905 , 1533.38809959,  932.62411641,  978.5232285 ,\n",
       "       1230.28807498, 1583.18186014, 1426.03681972, 1657.32292814,\n",
       "       1827.07221602, 1221.97292273, 1253.70224781, 1278.32564927,\n",
       "        919.97881548, 1546.25977767, 1319.32933862, 1196.73972671,\n",
       "       1342.32947724, 1253.94472861, 1171.28236226, 1133.27860666,\n",
       "       1696.68036506, 1774.44417537, 1653.26973519, 1888.58050312,\n",
       "       1258.89217989, 1326.32578186, 1592.40841228, 1235.17305099,\n",
       "       1251.74041908, 1212.84430017, 1463.69573901, 1817.11284231,\n",
       "       1557.84158882, 1937.96403744, 1171.80227247, 1823.31102252,\n",
       "       1502.04399221, 1164.63954233, 1884.89581718, 1269.74464947,\n",
       "       1131.42685871, 1612.89896946,  888.82626238, 1287.7644741 ,\n",
       "       1730.50303378, 1089.60759018,  927.92910121, 1352.93556768,\n",
       "       1254.58238294, 1387.7429818 , 1137.8113584 , 1617.80057404,\n",
       "       1292.11354887,  916.9796424 , 1565.25168864, 1459.13207598,\n",
       "        954.20635931, 1789.32689783, 1332.22538849, 1710.18800904,\n",
       "       1289.42255978, 1099.62372314, 1350.76851951, 1663.46101501,\n",
       "       1122.05776734,  914.59968241, 1543.34170549, 1341.71318256,\n",
       "        911.26435079, 1333.60440281, 1298.62796906, 1241.00830451,\n",
       "        902.27735342, 1245.59282168, 1806.95435721, 1231.3596917 ,\n",
       "       1775.24876413, 1617.75122562, 1318.52154575, 1338.01578052,\n",
       "       1580.91520148,  937.73260646, 1100.44652609, 1483.90273527,\n",
       "       1382.88330967, 2028.35975653,  903.53430544,  876.84142229,\n",
       "       1766.5748497 , 1351.42110424, 1279.85853825, 1521.67879957,\n",
       "       1286.12722644, 1463.09101632, 1189.66110486, 1772.74770663,\n",
       "       1723.86622865, 1312.30139251, 1273.95358729, 1835.0178218 ,\n",
       "       1292.54004531, 1246.62179384, 1949.79148259, 1937.570699  ,\n",
       "       1184.67729085, 1554.8393076 , 1342.7082981 , 1267.12101865,\n",
       "       1232.85904011, 1715.17233001, 1644.74308383, 1102.80304228,\n",
       "       1137.08938857, 1319.59873825, 1056.55245799, 1280.76621907,\n",
       "       1804.97253706, 1411.25147476, 1341.55731001, 1670.12479312,\n",
       "        868.70827654, 1254.93098742, 1173.43843153, 1470.11069113,\n",
       "       1587.52236351,  846.79020892, 1639.53176767, 1134.63017216,\n",
       "       1661.17515532, 1735.04101112, 1327.11175235,  856.90792848,\n",
       "       1494.83482597, 1538.32684815, 1649.65341129, 1193.51331446,\n",
       "       1787.05479048, 1498.01364901, 1616.77008182, 1343.02273319,\n",
       "       1327.18327921, 1336.14462687,  978.05365061, 1364.3263418 ,\n",
       "       1249.71284221, 1663.43719852, 1295.24336375, 1245.7075862 ,\n",
       "        937.75714053, 1826.57283292, 1249.07081598, 1195.8534053 ,\n",
       "       1324.8159591 , 1536.46253151, 1122.33772707, 1655.68731559,\n",
       "        979.87099658, 1196.72951189, 1730.182278  , 1097.40922992,\n",
       "       1873.66398976, 1649.1621631 , 1318.68338295, 1775.87740989,\n",
       "       1898.95087169, 1164.03499923, 1128.16723243, 1266.3476514 ,\n",
       "       1322.0279393 , 1210.89124327, 1204.97713658, 1414.45906156,\n",
       "       1698.54008061, 1265.34074643, 1308.73240171, 1614.02223594,\n",
       "       1172.87107869, 1144.31503428,  898.71790679, 1319.17438603,\n",
       "       1332.3636231 , 1228.86032344, 1315.78520108, 1312.03893902,\n",
       "       1880.94749764, 1207.12420175, 1674.48476433, 1116.17685761,\n",
       "       1281.73882254, 1362.68424878, 1748.06528513, 1268.66898438,\n",
       "       1593.31208217, 1706.59018605, 1317.78297973, 1902.99579631,\n",
       "       1331.35177922, 1123.94200729,  887.76532488, 1592.62775518,\n",
       "       1162.04358866, 1145.12313163, 1231.83404496,  858.29041475,\n",
       "       1273.73523651, 1108.33026733, 1568.28286185, 1247.24406165,\n",
       "        922.80299437, 1297.8720089 , 1252.70459132, 1268.07144124,\n",
       "       1328.55669675, 1386.91083569, 1436.19281798, 1303.79927345,\n",
       "       1105.01496921, 1266.40784933, 1210.91888299, 1296.41834569,\n",
       "       1511.49455122,  903.44167725, 1342.48036482, 1667.73082267,\n",
       "       1107.61236283, 1053.8585408 , 1188.99871315, 1117.1133854 ,\n",
       "       1240.48374114, 1213.09803432, 1188.39005598, 1121.98944845,\n",
       "       1288.95363665, 1202.32881834, 1286.38585364, 1900.87286257,\n",
       "       1317.71215741, 1288.62766686, 1537.6797283 , 1713.35829685,\n",
       "        727.47440623,  731.84374795, 1750.55280929,  852.78870499,\n",
       "       1499.74300886, 1354.52216557, 1217.90134039, 1229.06294301,\n",
       "       1639.93393859, 1292.06761808,  946.0691711 , 1191.02609993,\n",
       "        889.30382018, 1238.62641379, 1420.13146621,  934.10354979,\n",
       "       1464.86999063, 1277.5220066 , 1408.71731717, 2034.55157144,\n",
       "       1276.95636469, 1223.57625055, 1325.837987  , 1291.14692228,\n",
       "       1733.99373734, 1382.92621264, 1193.4204458 , 1294.42628538,\n",
       "       1731.94448052, 1612.21061922, 1903.52389477, 1110.99008036,\n",
       "       1194.54824703, 1232.31173963,  767.46105518, 1264.93737456,\n",
       "       1739.27147246, 1304.66229322, 1496.35448552, 1306.2529453 ,\n",
       "       1272.21820998, 1775.90244693, 1790.75180154, 1246.43410948,\n",
       "       1798.76481173, 1311.48715202, 1806.00230794, 1819.67007633,\n",
       "       1531.89878887, 1315.06219737, 1595.4439606 , 1265.63458407,\n",
       "        908.16784875, 1412.01201627, 1428.56361318, 1858.45382144,\n",
       "       1255.86859653, 1766.40725914, 1356.29290746, 1824.21909705,\n",
       "       1106.99950989, 1287.33107313,  900.43159934, 1681.13743042,\n",
       "       1239.94710217, 1220.41585723, 1317.91667317, 1270.3068802 ,\n",
       "       1327.36981182, 1296.11047285, 1151.07294356, 1276.29508122,\n",
       "        942.2701577 , 1642.2449742 , 1132.38016299, 1768.88410506,\n",
       "       1407.80484553, 1849.30454493,  851.6924387 , 1216.9378099 ,\n",
       "       1146.1826775 , 1487.34160809, 1212.48550538, 1467.90011697,\n",
       "       1342.02008746, 1391.20050331, 1173.26026247, 1321.00832985,\n",
       "       1847.95614732, 1107.30631582, 1635.73283136, 1293.42075057,\n",
       "       1262.69949938, 1082.21601982, 1179.86431524, 1056.88335058,\n",
       "       1710.6470309 , 1304.97729071, 1897.98674961, 1236.97641091,\n",
       "       1215.91901904,  990.08070657,  871.58259055, 1162.89118745,\n",
       "        963.62149766, 1322.67315098, 1769.51398384, 1276.54568493,\n",
       "       1328.95172354, 1283.0558185 , 1584.46823667, 1181.12457729,\n",
       "       1101.47252643, 1154.43508377,  884.07586797, 1275.78592451,\n",
       "       1667.30011661,  749.13247923, 1593.89855099, 1239.8959737 ,\n",
       "       1350.84172555, 1845.06909971, 1650.42765851, 1372.1821667 ,\n",
       "       1240.2310524 ,  811.11761054,  900.19972842,  972.93432307,\n",
       "        922.33949231, 1368.11308322, 1154.48577844, 1205.34252563,\n",
       "       1731.3872957 , 1901.24290366, 1775.32348232, 1875.80003478,\n",
       "       1807.31320073, 1310.1981866 , 1396.32616675, 1129.05258178,\n",
       "       1482.74774502, 1674.57071989,  834.05159905,  936.68189914,\n",
       "        877.46872719, 1277.47535611, 1237.83740242, 1076.61720227,\n",
       "       1330.9902606 , 1309.46023706, 1292.03713049, 1726.07970107,\n",
       "       1725.39637696, 1396.66485104, 1195.64945915,  952.10523701,\n",
       "       1488.36763874, 1276.46276576, 1279.79056515, 1814.07318798,\n",
       "       1959.09204929, 1214.19837112, 1594.65881059, 1119.43215896,\n",
       "       1332.12985208, 1200.39399671,  925.44460202, 1101.61807461,\n",
       "       1573.55283234, 1256.85328764, 1246.70449064, 1805.24936349,\n",
       "       1055.92970581, 1886.06606815, 1206.05994252,  940.74539281,\n",
       "       1287.88157505, 1143.96103298, 1259.30426268, 1359.15892704,\n",
       "       1195.4069944 , 1303.77643911,  908.76802775, 1484.73688769,\n",
       "       1701.07746132,  794.68287627, 1658.58874832, 1718.92029623,\n",
       "       1630.19437715, 1160.98948217, 1328.67252138, 1338.90544788,\n",
       "       1376.27961178, 1294.33984327,  975.23600886, 1381.70254424,\n",
       "       1433.3167929 , 1317.09965495, 1176.91791254,  879.60803375,\n",
       "       1229.82552622, 1193.4941171 ,  956.2828175 , 1661.76925028,\n",
       "        930.12456702, 1790.47226538, 1712.63329541, 1617.5382926 ,\n",
       "       1654.1589816 , 1793.44443203, 1322.84991176, 1339.26761969,\n",
       "       1183.78450151, 1732.14604479, 1815.70790069, 1663.21516839,\n",
       "       1317.53446696, 1224.1420109 , 1541.65116545, 1178.02455863,\n",
       "        724.68685261, 1734.50452311, 1821.30016594, 1095.52079067,\n",
       "       1176.2200091 ,  907.75795778, 1227.20186043, 1252.77089202,\n",
       "       1370.55824583,  868.35275737, 1380.61969964, 1756.24406328,\n",
       "       1228.16650898, 1618.14781517, 1155.12780011, 1293.86901583,\n",
       "        945.57250555, 1287.35713011,  853.89425992, 1268.31426713,\n",
       "       1569.79788225, 1664.81782858, 1346.95254777, 1246.22754735,\n",
       "       1829.34233206, 1251.45483784,  914.26602971, 1147.14885376,\n",
       "       1904.7190875 , 1317.0765309 ,  963.9359366 , 1226.13897682,\n",
       "        923.48694497, 1261.86977575, 1387.16469392, 1204.00078931,\n",
       "       1284.33081282, 1245.23271502, 1319.20073332, 1647.80837864,\n",
       "       1787.58955921, 1065.00076145, 1572.10010293, 1854.38034212,\n",
       "       1658.97325596, 1383.93651807, 1604.57374258, 1783.47017989,\n",
       "       1251.73351157, 1265.7001736 ,  897.813593  , 1256.10025152,\n",
       "       1273.90304039, 1338.99193019,  910.68280977, 1294.30241324,\n",
       "       1704.50546564, 1419.43304004, 1254.99598902, 1495.21240668,\n",
       "       1294.60552102, 1652.56338054, 1732.2196751 , 1334.60149562,\n",
       "       1879.48320421, 1278.78561189, 1080.08923455, 1310.80366041,\n",
       "       1930.782737  , 1792.90944418, 1105.82119136,  942.8058719 ,\n",
       "       1736.28739028, 1864.12300999, 1065.7315171 , 1325.56795864,\n",
       "       1783.09753568, 1751.76839234, 1496.87237929, 1532.96392129,\n",
       "       1330.73649839, 1298.77557011, 1336.29722167, 1325.26195774,\n",
       "       1153.4639706 , 1320.38831793, 1243.43086717, 1283.79057746,\n",
       "        901.32006381, 1638.93754608, 1238.95881187, 1340.14644063,\n",
       "       1598.71238962, 1737.13115411, 1242.8537061 , 1231.83465473,\n",
       "       1337.04342822,  751.66812629, 1594.741891  , 1568.13646424,\n",
       "       1086.04977629, 1350.88387859, 1310.3952616 , 1086.7556834 ,\n",
       "       1243.544659  , 1220.79089826, 1290.56032201, 1222.47081293,\n",
       "       1268.13169882, 1924.86902359, 1245.01442531, 1103.48951177,\n",
       "       1618.40453732, 1089.31795652, 1521.52882276, 1225.36861392,\n",
       "       1105.47093423, 1670.79055673, 1901.60236731,  933.76678292,\n",
       "       1268.8115785 , 1308.48530755, 1217.26409599, 1337.33510417,\n",
       "       1701.34352232, 1619.62015175, 1159.13908761, 1709.77656763,\n",
       "       1230.77262907, 1206.10680223, 1291.37457952, 1158.36769715,\n",
       "       1674.39960971,  992.46310118, 1203.52894284, 1164.49353281,\n",
       "       1302.37383285, 1556.03844536, 1493.82159694,  859.75914022,\n",
       "       1196.57873135,  928.54488992, 1290.91203255, 1091.47952271,\n",
       "       1241.98303894,  801.9330496 , 1310.75480412, 1466.80330014,\n",
       "       1286.41656914, 1854.66042584, 1267.2847965 ,  895.01146205,\n",
       "       1187.77965045, 1808.79369348, 1113.49634517, 1241.47337481,\n",
       "        808.5704165 , 1859.96387229,  879.29149868, 1928.23248491,\n",
       "       1321.95973273, 2055.40929665, 1726.42833192, 1742.71784141,\n",
       "       1274.05417292, 1233.71758101, 1361.21529938, 1163.36768417,\n",
       "       1330.91793638, 1323.14169137, 1944.22552087, 1266.42191704,\n",
       "       1259.91545961, 1267.90027599, 1277.42023283, 1071.48886403,\n",
       "       1254.51463445, 1797.19469923, 1292.26829755, 1231.88633405,\n",
       "       1561.61308848, 1109.09609613, 1329.16518212, 1607.91952318,\n",
       "       1285.79519673, 1958.72181091, 1457.8399321 , 1289.43684832,\n",
       "       1539.1036291 , 1262.74945274, 1885.74492321, 1289.23115775,\n",
       "       1864.29740705, 1869.27476121, 1677.09484348, 1345.40420244,\n",
       "       1756.74527207, 1093.39432001, 1232.79622993, 1291.74615037,\n",
       "       1574.44591616, 1253.41729276, 1272.09492639])"
      ]
     },
     "execution_count": 15,
     "metadata": {},
     "output_type": "execute_result"
    }
   ],
   "source": [
    "# Predict value print\n",
    "pred"
   ]
  },
  {
   "cell_type": "code",
   "execution_count": 16,
   "metadata": {},
   "outputs": [
    {
     "name": "stdout",
     "output_type": "stream",
     "text": [
      "**************************************************\n",
      "*  Mean Square Error: 30.603609421197696\n",
      "*  Root Mean Square Error: 5.532052912002713\n",
      "*  r2_score: 0.9996200981240283\n",
      "**************************************************\n"
     ]
    }
   ],
   "source": [
    "# MSE (Mean Square Error)\n",
    "# RMSE (Root Mean Square Error)\n",
    "# r2_square --> 1.0 -> Very Good Model\n",
    "\n",
    "from sklearn.metrics import mean_squared_error, r2_score\n",
    "\n",
    "def calculate_metrics(y_test, y_pred):\n",
    "    '''\n",
    "        y_test: ground truth\n",
    "        y_pred: model predict value\n",
    "    '''\n",
    "    mse = mean_squared_error(y_test, y_pred)\n",
    "    rmse = np.sqrt(mse)\n",
    "    r2_scores = r2_score(y_test, y_pred)\n",
    "    print('*'*50)\n",
    "    print(f\"*  Mean Square Error: {mse}\")\n",
    "    print(f\"*  Root Mean Square Error: {rmse}\")\n",
    "    print(f\"*  r2_score: {r2_scores}\")\n",
    "    print('*'*50)\n",
    "\n",
    "calculate_metrics(y_test, pred)"
   ]
  },
  {
   "cell_type": "markdown",
   "metadata": {},
   "source": [
    "### Lasso and Ridge Model"
   ]
  },
  {
   "cell_type": "code",
   "execution_count": 17,
   "metadata": {},
   "outputs": [],
   "source": [
    "from sklearn.linear_model import Lasso, Ridge\n",
    "\n",
    "model_lasso = Lasso().fit(X_train, y_train)\n",
    "model_ridge = Ridge().fit(X_train, y_train)\n",
    "\n",
    "model_lasso_pred = model_lasso.predict(X_test)\n",
    "model_ridge_pred = model_ridge.predict(X_test)"
   ]
  },
  {
   "cell_type": "code",
   "execution_count": 18,
   "metadata": {},
   "outputs": [
    {
     "name": "stdout",
     "output_type": "stream",
     "text": [
      "**************************************************\n",
      "*  Mean Square Error: 60.07663515535179\n",
      "*  Root Mean Square Error: 7.750911891858389\n",
      "*  r2_score: 0.9992542308953343\n",
      "**************************************************\n",
      "**************************************************\n",
      "*  Mean Square Error: 30.603630749258734\n",
      "*  Root Mean Square Error: 5.532054839682877\n",
      "*  r2_score: 0.9996200978592696\n",
      "**************************************************\n"
     ]
    }
   ],
   "source": [
    "calculate_metrics(y_test, model_lasso_pred)\n",
    "\n",
    "calculate_metrics(y_test, model_ridge_pred)"
   ]
  },
  {
   "cell_type": "markdown",
   "metadata": {},
   "source": [
    "## Support Vector Machine Regression"
   ]
  },
  {
   "cell_type": "code",
   "execution_count": 19,
   "metadata": {},
   "outputs": [
    {
     "name": "stdout",
     "output_type": "stream",
     "text": [
      "Fitting 5 folds for each of 25 candidates, totalling 125 fits\n",
      "[CV 1/5] END .......C=0.1, gamma=1, kernel=rbf;, score=-0.056 total time=   3.5s\n",
      "[CV 2/5] END .......C=0.1, gamma=1, kernel=rbf;, score=-0.040 total time=   4.1s\n",
      "[CV 3/5] END .......C=0.1, gamma=1, kernel=rbf;, score=-0.020 total time=   4.3s\n",
      "[CV 4/5] END .......C=0.1, gamma=1, kernel=rbf;, score=-0.018 total time=   4.9s\n",
      "[CV 5/5] END .......C=0.1, gamma=1, kernel=rbf;, score=-0.051 total time=   5.8s\n",
      "[CV 1/5] END .....C=0.1, gamma=0.1, kernel=rbf;, score=-0.056 total time=   4.1s\n",
      "[CV 2/5] END .....C=0.1, gamma=0.1, kernel=rbf;, score=-0.040 total time=   5.0s\n",
      "[CV 3/5] END .....C=0.1, gamma=0.1, kernel=rbf;, score=-0.020 total time=   3.8s\n",
      "[CV 4/5] END .....C=0.1, gamma=0.1, kernel=rbf;, score=-0.018 total time=   5.8s\n",
      "[CV 5/5] END .....C=0.1, gamma=0.1, kernel=rbf;, score=-0.051 total time=   4.0s\n",
      "[CV 1/5] END ....C=0.1, gamma=0.01, kernel=rbf;, score=-0.056 total time=   3.9s\n",
      "[CV 2/5] END ....C=0.1, gamma=0.01, kernel=rbf;, score=-0.040 total time=   5.7s\n",
      "[CV 3/5] END ....C=0.1, gamma=0.01, kernel=rbf;, score=-0.019 total time=   8.7s\n",
      "[CV 4/5] END ....C=0.1, gamma=0.01, kernel=rbf;, score=-0.017 total time=   4.0s\n",
      "[CV 5/5] END ....C=0.1, gamma=0.01, kernel=rbf;, score=-0.051 total time=   3.7s\n",
      "[CV 1/5] END ...C=0.1, gamma=0.001, kernel=rbf;, score=-0.053 total time=   3.3s\n",
      "[CV 2/5] END ...C=0.1, gamma=0.001, kernel=rbf;, score=-0.036 total time=   3.2s\n",
      "[CV 3/5] END ...C=0.1, gamma=0.001, kernel=rbf;, score=-0.016 total time=   3.2s\n",
      "[CV 4/5] END ...C=0.1, gamma=0.001, kernel=rbf;, score=-0.014 total time=   3.0s\n",
      "[CV 5/5] END ...C=0.1, gamma=0.001, kernel=rbf;, score=-0.049 total time=   3.1s\n",
      "[CV 1/5] END ..C=0.1, gamma=0.0001, kernel=rbf;, score=-0.033 total time=   2.9s\n",
      "[CV 2/5] END ..C=0.1, gamma=0.0001, kernel=rbf;, score=-0.017 total time=   3.0s\n",
      "[CV 3/5] END ...C=0.1, gamma=0.0001, kernel=rbf;, score=0.004 total time=   3.0s\n",
      "[CV 4/5] END ...C=0.1, gamma=0.0001, kernel=rbf;, score=0.007 total time=   3.9s\n",
      "[CV 5/5] END ..C=0.1, gamma=0.0001, kernel=rbf;, score=-0.027 total time=   3.4s\n",
      "[CV 1/5] END .........C=1, gamma=1, kernel=rbf;, score=-0.056 total time=   3.8s\n",
      "[CV 2/5] END .........C=1, gamma=1, kernel=rbf;, score=-0.040 total time=   3.7s\n",
      "[CV 3/5] END .........C=1, gamma=1, kernel=rbf;, score=-0.020 total time=   3.4s\n",
      "[CV 4/5] END .........C=1, gamma=1, kernel=rbf;, score=-0.018 total time=   2.9s\n",
      "[CV 5/5] END .........C=1, gamma=1, kernel=rbf;, score=-0.052 total time=   2.8s\n",
      "[CV 1/5] END .......C=1, gamma=0.1, kernel=rbf;, score=-0.056 total time=   2.8s\n",
      "[CV 2/5] END .......C=1, gamma=0.1, kernel=rbf;, score=-0.040 total time=   3.4s\n",
      "[CV 3/5] END .......C=1, gamma=0.1, kernel=rbf;, score=-0.019 total time=   5.3s\n",
      "[CV 4/5] END .......C=1, gamma=0.1, kernel=rbf;, score=-0.017 total time=   3.3s\n",
      "[CV 5/5] END .......C=1, gamma=0.1, kernel=rbf;, score=-0.051 total time=   3.6s\n",
      "[CV 1/5] END ......C=1, gamma=0.01, kernel=rbf;, score=-0.052 total time=   2.9s\n",
      "[CV 2/5] END ......C=1, gamma=0.01, kernel=rbf;, score=-0.036 total time=   3.2s\n",
      "[CV 3/5] END ......C=1, gamma=0.01, kernel=rbf;, score=-0.016 total time=   3.4s\n",
      "[CV 4/5] END ......C=1, gamma=0.01, kernel=rbf;, score=-0.014 total time=   3.5s\n",
      "[CV 5/5] END ......C=1, gamma=0.01, kernel=rbf;, score=-0.049 total time=   3.0s\n",
      "[CV 1/5] END .....C=1, gamma=0.001, kernel=rbf;, score=-0.027 total time=   4.3s\n",
      "[CV 2/5] END .....C=1, gamma=0.001, kernel=rbf;, score=-0.011 total time=   3.4s\n",
      "[CV 3/5] END ......C=1, gamma=0.001, kernel=rbf;, score=0.011 total time=   3.1s\n",
      "[CV 4/5] END ......C=1, gamma=0.001, kernel=rbf;, score=0.013 total time=   3.0s\n",
      "[CV 5/5] END .....C=1, gamma=0.001, kernel=rbf;, score=-0.022 total time=   4.0s\n",
      "[CV 1/5] END .....C=1, gamma=0.0001, kernel=rbf;, score=0.125 total time=   2.7s\n",
      "[CV 2/5] END .....C=1, gamma=0.0001, kernel=rbf;, score=0.153 total time=   4.1s\n",
      "[CV 3/5] END .....C=1, gamma=0.0001, kernel=rbf;, score=0.168 total time=   2.7s\n",
      "[CV 4/5] END .....C=1, gamma=0.0001, kernel=rbf;, score=0.177 total time=   2.6s\n",
      "[CV 5/5] END .....C=1, gamma=0.0001, kernel=rbf;, score=0.149 total time=   2.7s\n",
      "[CV 1/5] END ........C=10, gamma=1, kernel=rbf;, score=-0.055 total time=   3.3s\n",
      "[CV 2/5] END ........C=10, gamma=1, kernel=rbf;, score=-0.039 total time=   3.7s\n",
      "[CV 3/5] END ........C=10, gamma=1, kernel=rbf;, score=-0.019 total time=   3.3s\n",
      "[CV 4/5] END ........C=10, gamma=1, kernel=rbf;, score=-0.018 total time=   3.3s\n",
      "[CV 5/5] END ........C=10, gamma=1, kernel=rbf;, score=-0.051 total time=   3.3s\n",
      "[CV 1/5] END ......C=10, gamma=0.1, kernel=rbf;, score=-0.054 total time=   3.3s\n",
      "[CV 2/5] END ......C=10, gamma=0.1, kernel=rbf;, score=-0.038 total time=   3.3s\n",
      "[CV 3/5] END ......C=10, gamma=0.1, kernel=rbf;, score=-0.017 total time=   3.2s\n",
      "[CV 4/5] END ......C=10, gamma=0.1, kernel=rbf;, score=-0.016 total time=   3.4s\n",
      "[CV 5/5] END ......C=10, gamma=0.1, kernel=rbf;, score=-0.050 total time=   3.3s\n",
      "[CV 1/5] END .....C=10, gamma=0.01, kernel=rbf;, score=-0.031 total time=   5.3s\n",
      "[CV 2/5] END .....C=10, gamma=0.01, kernel=rbf;, score=-0.014 total time=   3.0s\n",
      "[CV 3/5] END ......C=10, gamma=0.01, kernel=rbf;, score=0.006 total time=   2.9s\n",
      "[CV 4/5] END ......C=10, gamma=0.01, kernel=rbf;, score=0.006 total time=   2.9s\n",
      "[CV 5/5] END .....C=10, gamma=0.01, kernel=rbf;, score=-0.027 total time=   2.8s\n",
      "[CV 1/5] END .....C=10, gamma=0.001, kernel=rbf;, score=0.154 total time=   2.7s\n",
      "[CV 2/5] END .....C=10, gamma=0.001, kernel=rbf;, score=0.187 total time=   2.7s\n",
      "[CV 3/5] END .....C=10, gamma=0.001, kernel=rbf;, score=0.199 total time=   3.0s\n",
      "[CV 4/5] END .....C=10, gamma=0.001, kernel=rbf;, score=0.208 total time=   2.6s\n",
      "[CV 5/5] END .....C=10, gamma=0.001, kernel=rbf;, score=0.179 total time=   2.7s\n",
      "[CV 1/5] END ....C=10, gamma=0.0001, kernel=rbf;, score=0.596 total time=   2.6s\n",
      "[CV 2/5] END ....C=10, gamma=0.0001, kernel=rbf;, score=0.682 total time=   2.5s\n",
      "[CV 3/5] END ....C=10, gamma=0.0001, kernel=rbf;, score=0.677 total time=   2.5s\n",
      "[CV 4/5] END ....C=10, gamma=0.0001, kernel=rbf;, score=0.670 total time=   2.5s\n",
      "[CV 5/5] END ....C=10, gamma=0.0001, kernel=rbf;, score=0.686 total time=   2.5s\n",
      "[CV 1/5] END .......C=100, gamma=1, kernel=rbf;, score=-0.045 total time=   3.8s\n",
      "[CV 2/5] END .......C=100, gamma=1, kernel=rbf;, score=-0.031 total time=   4.4s\n",
      "[CV 3/5] END .......C=100, gamma=1, kernel=rbf;, score=-0.012 total time=   5.0s\n",
      "[CV 4/5] END .......C=100, gamma=1, kernel=rbf;, score=-0.010 total time=   3.1s\n",
      "[CV 5/5] END .......C=100, gamma=1, kernel=rbf;, score=-0.038 total time=   3.8s\n",
      "[CV 1/5] END .....C=100, gamma=0.1, kernel=rbf;, score=-0.033 total time=   3.3s\n",
      "[CV 2/5] END .....C=100, gamma=0.1, kernel=rbf;, score=-0.018 total time=   3.2s\n",
      "[CV 3/5] END .....C=100, gamma=0.1, kernel=rbf;, score=-0.000 total time=   3.1s\n",
      "[CV 4/5] END .....C=100, gamma=0.1, kernel=rbf;, score=-0.000 total time=   3.1s\n",
      "[CV 5/5] END .....C=100, gamma=0.1, kernel=rbf;, score=-0.025 total time=   3.1s\n",
      "[CV 1/5] END .....C=100, gamma=0.01, kernel=rbf;, score=0.116 total time=   3.5s\n",
      "[CV 2/5] END .....C=100, gamma=0.01, kernel=rbf;, score=0.147 total time=   3.6s\n",
      "[CV 3/5] END .....C=100, gamma=0.01, kernel=rbf;, score=0.142 total time=   3.5s\n",
      "[CV 4/5] END .....C=100, gamma=0.01, kernel=rbf;, score=0.132 total time=   3.5s\n",
      "[CV 5/5] END .....C=100, gamma=0.01, kernel=rbf;, score=0.129 total time=   3.4s\n",
      "[CV 1/5] END ....C=100, gamma=0.001, kernel=rbf;, score=0.562 total time=   6.1s\n",
      "[CV 2/5] END ....C=100, gamma=0.001, kernel=rbf;, score=0.625 total time=   5.7s\n",
      "[CV 3/5] END ....C=100, gamma=0.001, kernel=rbf;, score=0.658 total time=   6.4s\n",
      "[CV 4/5] END ....C=100, gamma=0.001, kernel=rbf;, score=0.643 total time=   5.6s\n",
      "[CV 5/5] END ....C=100, gamma=0.001, kernel=rbf;, score=0.638 total time=   5.5s\n",
      "[CV 1/5] END ...C=100, gamma=0.0001, kernel=rbf;, score=0.839 total time=   5.6s\n",
      "[CV 2/5] END ...C=100, gamma=0.0001, kernel=rbf;, score=0.870 total time=   5.4s\n",
      "[CV 3/5] END ...C=100, gamma=0.0001, kernel=rbf;, score=0.887 total time=   5.9s\n",
      "[CV 4/5] END ...C=100, gamma=0.0001, kernel=rbf;, score=0.873 total time=   5.1s\n",
      "[CV 5/5] END ...C=100, gamma=0.0001, kernel=rbf;, score=0.910 total time=   5.9s\n",
      "[CV 1/5] END ......C=1000, gamma=1, kernel=rbf;, score=-0.004 total time=   4.1s\n",
      "[CV 2/5] END .......C=1000, gamma=1, kernel=rbf;, score=0.000 total time=   4.0s\n",
      "[CV 3/5] END ......C=1000, gamma=1, kernel=rbf;, score=-0.003 total time=   3.9s\n",
      "[CV 4/5] END ......C=1000, gamma=1, kernel=rbf;, score=-0.004 total time=   4.3s\n",
      "[CV 5/5] END .......C=1000, gamma=1, kernel=rbf;, score=0.001 total time=   3.9s\n",
      "[CV 1/5] END .....C=1000, gamma=0.1, kernel=rbf;, score=0.023 total time=   4.0s\n",
      "[CV 2/5] END .....C=1000, gamma=0.1, kernel=rbf;, score=0.030 total time=   4.0s\n",
      "[CV 3/5] END .....C=1000, gamma=0.1, kernel=rbf;, score=0.027 total time=   4.1s\n",
      "[CV 4/5] END .....C=1000, gamma=0.1, kernel=rbf;, score=0.016 total time=   4.0s\n",
      "[CV 5/5] END .....C=1000, gamma=0.1, kernel=rbf;, score=0.031 total time=   3.9s\n",
      "[CV 1/5] END ....C=1000, gamma=0.01, kernel=rbf;, score=0.256 total time=   6.0s\n",
      "[CV 2/5] END ....C=1000, gamma=0.01, kernel=rbf;, score=0.301 total time=   7.7s\n",
      "[CV 3/5] END ....C=1000, gamma=0.01, kernel=rbf;, score=0.280 total time=   8.1s\n",
      "[CV 4/5] END ....C=1000, gamma=0.01, kernel=rbf;, score=0.252 total time=   7.4s\n",
      "[CV 5/5] END ....C=1000, gamma=0.01, kernel=rbf;, score=0.282 total time=   5.9s\n",
      "[CV 1/5] END ...C=1000, gamma=0.001, kernel=rbf;, score=0.687 total time=  39.9s\n",
      "[CV 2/5] END ...C=1000, gamma=0.001, kernel=rbf;, score=0.750 total time=  36.6s\n",
      "[CV 3/5] END ...C=1000, gamma=0.001, kernel=rbf;, score=0.771 total time=  34.9s\n",
      "[CV 4/5] END ...C=1000, gamma=0.001, kernel=rbf;, score=0.764 total time=  36.1s\n",
      "[CV 5/5] END ...C=1000, gamma=0.001, kernel=rbf;, score=0.778 total time=  43.6s\n",
      "[CV 1/5] END ..C=1000, gamma=0.0001, kernel=rbf;, score=0.890 total time=  52.0s\n",
      "[CV 2/5] END ..C=1000, gamma=0.0001, kernel=rbf;, score=0.904 total time= 1.1min\n",
      "[CV 3/5] END ..C=1000, gamma=0.0001, kernel=rbf;, score=0.905 total time=  52.0s\n",
      "[CV 4/5] END ..C=1000, gamma=0.0001, kernel=rbf;, score=0.906 total time=  48.7s\n",
      "[CV 5/5] END ..C=1000, gamma=0.0001, kernel=rbf;, score=0.935 total time= 1.1min\n"
     ]
    },
    {
     "data": {
      "text/plain": [
       "GridSearchCV(estimator=SVR(),\n",
       "             param_grid={'C': [0.1, 1, 10, 100, 1000],\n",
       "                         'gamma': [1, 0.1, 0.01, 0.001, 0.0001],\n",
       "                         'kernel': ['rbf']},\n",
       "             verbose=3)"
      ]
     },
     "execution_count": 19,
     "metadata": {},
     "output_type": "execute_result"
    }
   ],
   "source": [
    "from sklearn.svm import SVR\n",
    "from sklearn.model_selection import GridSearchCV\n",
    "\n",
    "params = {\n",
    "    'C': [0.1, 1, 10, 100, 1000],\n",
    "    'gamma': [1, 0.1, 0.01, 0.001, 0.0001],\n",
    "    'kernel': ['rbf']\n",
    "}\n",
    "\n",
    "params_grid = GridSearchCV(SVR(), params, refit=True, verbose=3)\n",
    "params_grid.fit(X_train, y_train)"
   ]
  },
  {
   "cell_type": "code",
   "execution_count": 20,
   "metadata": {},
   "outputs": [],
   "source": [
    "model_svr = SVR(C=10, gamma=0.1, kernel='rbf')\n",
    "model_svr.fit(X_train, y_train)\n",
    "svr_pred = model_svr.predict(X_test)"
   ]
  },
  {
   "cell_type": "markdown",
   "metadata": {},
   "source": [
    "## Model Save"
   ]
  },
  {
   "cell_type": "code",
   "execution_count": 25,
   "metadata": {},
   "outputs": [],
   "source": [
    "import joblib  \n",
    "\n",
    "joblib.dump(model_ridge, 'model.pkl') \n",
    "\n",
    "ridge_from_joblib = model = joblib.load(\"model.pkl\")"
   ]
  },
  {
   "cell_type": "code",
   "execution_count": null,
   "metadata": {},
   "outputs": [],
   "source": []
  }
 ],
 "metadata": {
  "interpreter": {
   "hash": "3493f2f7deba3aca905526d6a293108d143469a55215d28c46da96f9e219d05e"
  },
  "kernelspec": {
   "display_name": "Python 3.9.7 64-bit ('myenv': conda)",
   "language": "python",
   "name": "python3"
  },
  "language_info": {
   "codemirror_mode": {
    "name": "ipython",
    "version": 3
   },
   "file_extension": ".py",
   "mimetype": "text/x-python",
   "name": "python",
   "nbconvert_exporter": "python",
   "pygments_lexer": "ipython3",
   "version": "3.9.7"
  },
  "orig_nbformat": 4
 },
 "nbformat": 4,
 "nbformat_minor": 2
}
