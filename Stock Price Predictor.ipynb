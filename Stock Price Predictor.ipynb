{
 "cells": [
  {
   "cell_type": "markdown",
   "metadata": {},
   "source": [
    "## Stock Price Predictor"
   ]
  },
  {
   "cell_type": "code",
   "execution_count": 1,
   "metadata": {},
   "outputs": [],
   "source": [
    "import numpy as np\n",
    "import pandas as pd\n",
    "\n",
    "import yfinance as yf\n",
    "\n",
    "import seaborn as sns\n",
    "import matplotlib.pyplot as plt\n",
    "import warnings\n",
    "warnings.filterwarnings('ignore')"
   ]
  },
  {
   "cell_type": "code",
   "execution_count": 4,
   "metadata": {},
   "outputs": [
    {
     "name": "stdout",
     "output_type": "stream",
     "text": [
      "[*********************100%***********************]  1 of 1 completed\n"
     ]
    },
    {
     "data": {
      "text/html": [
       "<div>\n",
       "<style scoped>\n",
       "    .dataframe tbody tr th:only-of-type {\n",
       "        vertical-align: middle;\n",
       "    }\n",
       "\n",
       "    .dataframe tbody tr th {\n",
       "        vertical-align: top;\n",
       "    }\n",
       "\n",
       "    .dataframe thead th {\n",
       "        text-align: right;\n",
       "    }\n",
       "</style>\n",
       "<table border=\"1\" class=\"dataframe\">\n",
       "  <thead>\n",
       "    <tr style=\"text-align: right;\">\n",
       "      <th></th>\n",
       "      <th>Open</th>\n",
       "      <th>High</th>\n",
       "      <th>Low</th>\n",
       "      <th>Close</th>\n",
       "      <th>Volume</th>\n",
       "    </tr>\n",
       "    <tr>\n",
       "      <th>Date</th>\n",
       "      <th></th>\n",
       "      <th></th>\n",
       "      <th></th>\n",
       "      <th></th>\n",
       "      <th></th>\n",
       "    </tr>\n",
       "  </thead>\n",
       "  <tbody>\n",
       "    <tr>\n",
       "      <th>2007-12-31</th>\n",
       "      <td>843.200012</td>\n",
       "      <td>843.200012</td>\n",
       "      <td>843.200012</td>\n",
       "      <td>834.900024</td>\n",
       "      <td>4</td>\n",
       "    </tr>\n",
       "    <tr>\n",
       "      <th>2008-01-02</th>\n",
       "      <td>848.700012</td>\n",
       "      <td>857.799988</td>\n",
       "      <td>846.400024</td>\n",
       "      <td>857.000000</td>\n",
       "      <td>130</td>\n",
       "    </tr>\n",
       "    <tr>\n",
       "      <th>2008-01-03</th>\n",
       "      <td>863.000000</td>\n",
       "      <td>865.500000</td>\n",
       "      <td>856.299988</td>\n",
       "      <td>866.400024</td>\n",
       "      <td>181</td>\n",
       "    </tr>\n",
       "    <tr>\n",
       "      <th>2008-01-04</th>\n",
       "      <td>861.400024</td>\n",
       "      <td>865.500000</td>\n",
       "      <td>860.200012</td>\n",
       "      <td>863.099976</td>\n",
       "      <td>28</td>\n",
       "    </tr>\n",
       "    <tr>\n",
       "      <th>2008-01-07</th>\n",
       "      <td>860.900024</td>\n",
       "      <td>860.900024</td>\n",
       "      <td>857.400024</td>\n",
       "      <td>859.599976</td>\n",
       "      <td>4</td>\n",
       "    </tr>\n",
       "  </tbody>\n",
       "</table>\n",
       "</div>"
      ],
      "text/plain": [
       "                  Open        High         Low       Close  Volume\n",
       "Date                                                              \n",
       "2007-12-31  843.200012  843.200012  843.200012  834.900024       4\n",
       "2008-01-02  848.700012  857.799988  846.400024  857.000000     130\n",
       "2008-01-03  863.000000  865.500000  856.299988  866.400024     181\n",
       "2008-01-04  861.400024  865.500000  860.200012  863.099976      28\n",
       "2008-01-07  860.900024  860.900024  857.400024  859.599976       4"
      ]
     },
     "execution_count": 4,
     "metadata": {},
     "output_type": "execute_result"
    }
   ],
   "source": [
    "stock = input('Enter the code of the Stock: ')\n",
    "data = yf.download(stock, \"2008-01-01\", \"2021-11-27\", auto_adjust=True)\n",
    "data.head()"
   ]
  },
  {
   "cell_type": "code",
   "execution_count": 5,
   "metadata": {},
   "outputs": [
    {
     "data": {
      "text/plain": [
       "(3501, 5)"
      ]
     },
     "execution_count": 5,
     "metadata": {},
     "output_type": "execute_result"
    }
   ],
   "source": [
    "data.shape"
   ]
  },
  {
   "cell_type": "code",
   "execution_count": 6,
   "metadata": {},
   "outputs": [
    {
     "name": "stdout",
     "output_type": "stream",
     "text": [
      "<class 'pandas.core.frame.DataFrame'>\n",
      "DatetimeIndex: 3501 entries, 2007-12-31 to 2021-11-26\n",
      "Data columns (total 5 columns):\n",
      " #   Column  Non-Null Count  Dtype  \n",
      "---  ------  --------------  -----  \n",
      " 0   Open    3501 non-null   float64\n",
      " 1   High    3501 non-null   float64\n",
      " 2   Low     3501 non-null   float64\n",
      " 3   Close   3501 non-null   float64\n",
      " 4   Volume  3501 non-null   int64  \n",
      "dtypes: float64(4), int64(1)\n",
      "memory usage: 164.1 KB\n"
     ]
    }
   ],
   "source": [
    "data.info()"
   ]
  },
  {
   "cell_type": "code",
   "execution_count": 8,
   "metadata": {},
   "outputs": [
    {
     "data": {
      "text/html": [
       "<div>\n",
       "<style scoped>\n",
       "    .dataframe tbody tr th:only-of-type {\n",
       "        vertical-align: middle;\n",
       "    }\n",
       "\n",
       "    .dataframe tbody tr th {\n",
       "        vertical-align: top;\n",
       "    }\n",
       "\n",
       "    .dataframe thead th {\n",
       "        text-align: right;\n",
       "    }\n",
       "</style>\n",
       "<table border=\"1\" class=\"dataframe\">\n",
       "  <thead>\n",
       "    <tr style=\"text-align: right;\">\n",
       "      <th></th>\n",
       "      <th>Open</th>\n",
       "      <th>High</th>\n",
       "      <th>Low</th>\n",
       "      <th>Close</th>\n",
       "      <th>Volume</th>\n",
       "    </tr>\n",
       "  </thead>\n",
       "  <tbody>\n",
       "    <tr>\n",
       "      <th>count</th>\n",
       "      <td>3501.000000</td>\n",
       "      <td>3501.000000</td>\n",
       "      <td>3501.000000</td>\n",
       "      <td>3501.000000</td>\n",
       "      <td>3501.000000</td>\n",
       "    </tr>\n",
       "    <tr>\n",
       "      <th>mean</th>\n",
       "      <td>1346.093431</td>\n",
       "      <td>1353.284119</td>\n",
       "      <td>1338.217281</td>\n",
       "      <td>1345.850871</td>\n",
       "      <td>5577.000286</td>\n",
       "    </tr>\n",
       "    <tr>\n",
       "      <th>std</th>\n",
       "      <td>279.904981</td>\n",
       "      <td>281.122225</td>\n",
       "      <td>278.552880</td>\n",
       "      <td>279.944893</td>\n",
       "      <td>29425.377313</td>\n",
       "    </tr>\n",
       "    <tr>\n",
       "      <th>min</th>\n",
       "      <td>705.000000</td>\n",
       "      <td>715.500000</td>\n",
       "      <td>681.000000</td>\n",
       "      <td>704.900024</td>\n",
       "      <td>0.000000</td>\n",
       "    </tr>\n",
       "    <tr>\n",
       "      <th>25%</th>\n",
       "      <td>1192.599976</td>\n",
       "      <td>1197.900024</td>\n",
       "      <td>1186.099976</td>\n",
       "      <td>1193.000000</td>\n",
       "      <td>42.000000</td>\n",
       "    </tr>\n",
       "    <tr>\n",
       "      <th>50%</th>\n",
       "      <td>1292.099976</td>\n",
       "      <td>1296.300049</td>\n",
       "      <td>1286.699951</td>\n",
       "      <td>1292.500000</td>\n",
       "      <td>140.000000</td>\n",
       "    </tr>\n",
       "    <tr>\n",
       "      <th>75%</th>\n",
       "      <td>1569.300049</td>\n",
       "      <td>1577.500000</td>\n",
       "      <td>1558.300049</td>\n",
       "      <td>1567.400024</td>\n",
       "      <td>457.000000</td>\n",
       "    </tr>\n",
       "    <tr>\n",
       "      <th>max</th>\n",
       "      <td>2045.500000</td>\n",
       "      <td>2063.000000</td>\n",
       "      <td>2040.000000</td>\n",
       "      <td>2051.500000</td>\n",
       "      <td>386334.000000</td>\n",
       "    </tr>\n",
       "  </tbody>\n",
       "</table>\n",
       "</div>"
      ],
      "text/plain": [
       "              Open         High          Low        Close         Volume\n",
       "count  3501.000000  3501.000000  3501.000000  3501.000000    3501.000000\n",
       "mean   1346.093431  1353.284119  1338.217281  1345.850871    5577.000286\n",
       "std     279.904981   281.122225   278.552880   279.944893   29425.377313\n",
       "min     705.000000   715.500000   681.000000   704.900024       0.000000\n",
       "25%    1192.599976  1197.900024  1186.099976  1193.000000      42.000000\n",
       "50%    1292.099976  1296.300049  1286.699951  1292.500000     140.000000\n",
       "75%    1569.300049  1577.500000  1558.300049  1567.400024     457.000000\n",
       "max    2045.500000  2063.000000  2040.000000  2051.500000  386334.000000"
      ]
     },
     "execution_count": 8,
     "metadata": {},
     "output_type": "execute_result"
    }
   ],
   "source": [
    "data.describe()"
   ]
  },
  {
   "cell_type": "code",
   "execution_count": 9,
   "metadata": {},
   "outputs": [
    {
     "data": {
      "image/png": "[encoded data removed]",
      "text/plain": [
       "<Figure size 720x504 with 1 Axes>"
      ]
     },
     "metadata": {
      "needs_background": "light"
     },
     "output_type": "display_data"
    }
   ],
   "source": [
    "data.Close.plot(figsize=(10,7), color='r')\n",
    "plt.xlabel(f\"{stock} Prices\")\n",
    "plt.ylabel(f\"{stock} Prices Series\")\n",
    "plt.show()"
   ]
  },
  {
   "cell_type": "code",
   "execution_count": 10,
   "metadata": {},
   "outputs": [
    {
     "data": {
      "text/plain": [
       "<AxesSubplot:xlabel='Open', ylabel='Density'>"
      ]
     },
     "execution_count": 10,
     "metadata": {},
     "output_type": "execute_result"
    },
    {
     "data": {
      "image/png": "[encoded data removed]",
      "text/plain": [
       "<Figure size 432x288 with 1 Axes>"
      ]
     },
     "metadata": {
      "needs_background": "light"
     },
     "output_type": "display_data"
    }
   ],
   "source": [
    "sns.distplot(data.Open)"
   ]
  },
  {
   "cell_type": "code",
   "execution_count": 11,
   "metadata": {},
   "outputs": [
    {
     "data": {
      "text/plain": [
       "<AxesSubplot:xlabel='High', ylabel='Density'>"
      ]
     },
     "execution_count": 11,
     "metadata": {},
     "output_type": "execute_result"
    },
    {
     "data": {
      "image/png": "[encoded data removed]",
      "text/plain": [
       "<Figure size 432x288 with 1 Axes>"
      ]
     },
     "metadata": {
      "needs_background": "light"
     },
     "output_type": "display_data"
    }
   ],
   "source": [
    "sns.distplot(data.High)"
   ]
  },
  {
   "cell_type": "code",
   "execution_count": 12,
   "metadata": {},
   "outputs": [
    {
     "data": {
      "text/plain": [
       "<AxesSubplot:xlabel='Low', ylabel='Density'>"
      ]
     },
     "execution_count": 12,
     "metadata": {},
     "output_type": "execute_result"
    },
    {
     "data": {
      "image/png": "[encoded data removed]",
      "text/plain": [
       "<Figure size 432x288 with 1 Axes>"
      ]
     },
     "metadata": {
      "needs_background": "light"
     },
     "output_type": "display_data"
    }
   ],
   "source": [
    "sns.distplot(data.Low)"
   ]
  },
  {
   "cell_type": "code",
   "execution_count": 13,
   "metadata": {},
   "outputs": [
    {
     "data": {
      "text/plain": [
       "<AxesSubplot:xlabel='Close', ylabel='Density'>"
      ]
     },
     "execution_count": 13,
     "metadata": {},
     "output_type": "execute_result"
    },
    {
     "data": {
      "image/png": "[encoded data removed]",
      "text/plain": [
       "<Figure size 432x288 with 1 Axes>"
      ]
     },
     "metadata": {
      "needs_background": "light"
     },
     "output_type": "display_data"
    }
   ],
   "source": [
    "sns.distplot(data.Close)"
   ]
  },
  {
   "cell_type": "markdown",
   "metadata": {},
   "source": [
    "### Conlusions\n",
    "- Shape the of the data\n",
    "- How our data is distributed\n",
    "- It's is very very non-linear "
   ]
  },
  {
   "cell_type": "code",
   "execution_count": 15,
   "metadata": {},
   "outputs": [],
   "source": [
    "X = data.drop('Close', axis = 1)\n",
    "y = data['Close']"
   ]
  },
  {
   "cell_type": "markdown",
   "metadata": {},
   "source": [
    "## Training and Testing Dataset"
   ]
  },
  {
   "cell_type": "code",
   "execution_count": 16,
   "metadata": {},
   "outputs": [],
   "source": [
    "from sklearn.model_selection import train_test_split\n",
    "\n",
    "X_train, X_test, y_train, y_test = train_test_split(X, y, test_size = 0.2, random_state=0)"
   ]
  },
  {
   "cell_type": "code",
   "execution_count": 17,
   "metadata": {},
   "outputs": [
    {
     "name": "stdout",
     "output_type": "stream",
     "text": [
      "(2800, 4) (701, 4) (2800,) (701,)\n"
     ]
    }
   ],
   "source": [
    "print(X_train.shape, X_test.shape,y_train.shape,y_test.shape)"
   ]
  },
  {
   "cell_type": "markdown",
   "metadata": {},
   "source": [
    "## Modeling Part"
   ]
  },
  {
   "cell_type": "code",
   "execution_count": 18,
   "metadata": {},
   "outputs": [],
   "source": [
    "from sklearn.linear_model import LinearRegression\n",
    "\n",
    "model_lr = LinearRegression()\n",
    "model_lr.fit(X_train, y_train)\n",
    "pred = model_lr.predict(X_test)"
   ]
  },
  {
   "cell_type": "code",
   "execution_count": 19,
   "metadata": {},
   "outputs": [
    {
     "data": {
      "text/plain": [
       "array([1681.75095251,  902.41536579, 1283.96311199, 1293.66212428,\n",
       "       1268.60803071, 1270.35435153, 1277.52227286, 1221.09791399,\n",
       "       1196.76380802, 1779.54929814, 1721.48843551,  740.29241436,\n",
       "       1674.51540155,  978.64468957, 1197.41160432,  925.45610584,\n",
       "       1884.84233119, 1333.1044081 , 1638.8004372 , 1080.15970153,\n",
       "        942.41253267, 1302.1040397 , 1855.41875876, 1132.5698276 ,\n",
       "       1411.99841385,  838.07689447, 1206.2259597 , 1497.22461786,\n",
       "       1328.63048394, 1759.09211222, 1188.29092937, 1381.54175619,\n",
       "       1265.66405139, 1359.69547545, 1823.97918146,  786.15848141,\n",
       "       1105.59226302, 1234.10599141, 1266.23915772, 1283.5924742 ,\n",
       "       1308.68573032, 1298.75795658,  892.44613576, 1501.3294342 ,\n",
       "        956.35468615, 1726.4564187 , 1103.41961523, 1253.57858029,\n",
       "       1155.96904623, 1272.27607217, 1884.58418145, 1315.97233004,\n",
       "       1221.28234296, 1274.3748234 , 1650.45036801, 1694.23437298,\n",
       "       1280.75984317, 1387.20777894, 1268.83056156, 1170.6512293 ,\n",
       "       1084.13474733, 1387.20431768, 1083.730259  , 1412.57220074,\n",
       "       1575.50199121, 1736.21770301, 1254.92472708, 1315.84524053,\n",
       "       1168.13323523, 1229.31035136, 1102.39685474, 1154.45805067,\n",
       "       1089.3619396 , 1086.08729694, 1728.72140029, 1283.05474715,\n",
       "       1790.53610496,  935.25183737, 1710.43978835, 1687.94255331,\n",
       "       1721.53559644, 1280.83349761, 1258.07101953, 1075.25269531,\n",
       "       1377.147083  , 1273.86646062,  834.25725979, 1543.2145845 ,\n",
       "       1254.7901546 , 1137.12610207, 1236.3518701 ,  900.47750136,\n",
       "       1272.99142276, 1658.87474797, 1078.0331637 , 1499.37287259,\n",
       "       1119.46506298, 1114.37470752, 1489.3326925 , 1394.17363434,\n",
       "        920.16790079, 1293.14583546, 1503.94840374,  888.92664932,\n",
       "       1664.59921962, 1259.2996843 , 1331.26374344, 1740.13286923,\n",
       "        909.89807131, 1534.68403072, 1681.21194398, 1937.77098277,\n",
       "       1391.02803095, 1137.74793353, 1799.17947901, 1306.91488213,\n",
       "        962.1525548 , 1276.51722214,  939.83913229,  781.12376383,\n",
       "       1240.49369007, 1294.67799622, 1351.29934306, 1218.72495729,\n",
       "       1115.83522739, 1267.23054867, 1356.18328622, 1279.00986302,\n",
       "       1325.87527247, 1503.81325374, 1096.80105859, 1877.38495789,\n",
       "       1291.97332924, 1200.95352548, 1372.81148995, 1312.11057625,\n",
       "       1540.39687276,  917.2379546 , 1272.38465183, 1305.64154828,\n",
       "       1781.82373932, 1772.59193283, 1173.46891614,  876.88436953,\n",
       "       1881.44407685, 1732.04959537, 1757.66654672, 1248.76208087,\n",
       "       1351.93784298, 1203.5077914 , 1633.1530096 , 1177.08452079,\n",
       "       1209.09219465, 1529.14163986, 1754.62127431, 1345.36401865,\n",
       "       1592.32825349, 1762.61094133, 1330.14592351, 1238.19250273,\n",
       "       1253.66253817, 1250.90493072, 1216.07223038, 1871.37133046,\n",
       "       1233.10881354, 1338.64427344,  854.02753101, 1245.15650317,\n",
       "       1277.3785911 , 1419.45997004, 1244.58199072, 1247.61124659,\n",
       "       1287.75277935, 1153.4232237 , 1170.99806002, 1237.88420426,\n",
       "       1169.14415468, 1278.09437417, 1734.54930005, 1228.31510856,\n",
       "       1540.81277835, 1807.45503715, 1352.9178022 , 1309.91975842,\n",
       "       1333.05482417, 1182.53515375, 1255.56198682, 1088.32338418,\n",
       "       1749.01187579, 1327.59771079, 1350.82807325, 1246.83729934,\n",
       "       1128.35839156,  868.8116856 , 1283.37690926, 1296.57342976,\n",
       "       1285.17095198, 1805.3493295 , 1330.03433298,  860.81742547,\n",
       "       1317.95530528,  903.56884946, 1767.52452343, 1140.79859897,\n",
       "       1613.89069205, 1410.36603859, 1229.66733518, 1814.18135005,\n",
       "       1720.45713674, 1647.41563468, 1317.33212981, 1091.56589204,\n",
       "       1202.54102767, 1285.50664165, 1563.88534889, 1494.44965185,\n",
       "       1219.9718713 , 1898.71967648, 1314.01438354, 1226.902991  ,\n",
       "       1462.16698322,  978.10734231, 1370.28705901, 1279.83827743,\n",
       "       1376.30993123, 1874.92138077, 1078.60394356,  920.47281726,\n",
       "       1191.25892589, 1821.36942518, 1790.19448919, 1813.74114858,\n",
       "       1607.7705171 , 1263.66000852, 1201.33506997, 1261.7915346 ,\n",
       "       1140.59776972,  952.27727664,  964.90720717, 1168.36149938,\n",
       "       1294.39591943, 1730.27916583, 1798.44236629, 1309.63812211,\n",
       "       1065.20634817, 1358.75100963, 1717.17673188, 1642.7626161 ,\n",
       "        923.3740411 , 1951.15619031, 1651.20748331, 1806.47458661,\n",
       "       1307.89451174, 1410.35635231, 1709.65045033, 1267.63733151,\n",
       "       1307.79150529, 1258.8548901 , 1116.59480894, 1093.80554238,\n",
       "       1340.04475007, 1204.06509389,  947.38113268, 1864.82732345,\n",
       "       1826.43057858, 1386.90418487, 1851.72467813, 1038.29303389,\n",
       "       1341.99748004, 1350.26359892, 1269.20109902, 1116.62064067,\n",
       "       1881.26615358, 1534.60551452,  887.82720218, 1466.76425645,\n",
       "       1275.40076865, 1805.04902534,  858.38896655,  794.8822435 ,\n",
       "       1178.6914295 , 1294.07395966,  946.6134595 , 1225.64933122,\n",
       "        940.86761595, 1323.47208936, 1686.51717164, 1652.39922129,\n",
       "       1281.64600096, 1750.63288314, 1663.14573661, 1231.7973916 ,\n",
       "       1636.94648629, 1463.45592549, 1193.48814132, 1259.04108962,\n",
       "       1226.10038898, 1160.21651758, 1095.50237059,  966.3785701 ,\n",
       "       1231.15581925, 1372.9286805 , 1657.16310059, 1234.26144353,\n",
       "       1854.17626821, 1491.57104037, 1616.89225269, 1890.74094827,\n",
       "       1244.94847816, 1318.58930946, 1292.52210906, 1888.22655391,\n",
       "        732.00407847,  751.8114724 , 1858.23179548, 1130.28578465,\n",
       "       1216.30788734,  869.2794021 , 1203.67073028, 1288.08841191,\n",
       "       1113.51419676, 1266.97636367, 1367.50167776, 1220.46378039,\n",
       "       1253.66075123, 1298.5287421 ,  889.45024475, 1756.6131929 ,\n",
       "       1929.50601639, 1501.255845  , 1430.05860064,  950.73697971,\n",
       "       1251.35857981,  747.10584391, 1146.72253175, 1108.48984621,\n",
       "       1271.20095562, 1664.1517744 , 1274.06499694, 1156.17359077,\n",
       "       1847.89698393, 1709.69472893, 1089.62757296, 1571.54471806,\n",
       "       1290.85381752, 1213.14495299, 1238.63437503, 1649.16196068,\n",
       "       1291.33940654, 1226.20116546,  754.85291373, 1112.62640119,\n",
       "        897.16788496, 1364.30587653, 1523.50406155, 1538.32170851,\n",
       "       1285.04648865, 1573.5881373 , 1802.02140537, 1283.37023099,\n",
       "       1957.66605012, 1547.71452255, 1326.31063776, 1325.54109549,\n",
       "       1176.92339947, 1716.83834549, 1891.48256214, 1729.78055628,\n",
       "        996.16307438, 1929.69168762, 1212.52069447, 1218.79701814,\n",
       "        904.82154089, 1197.65666101, 1694.93841989, 1485.34032269,\n",
       "       1194.11624836, 1282.42089976, 1327.47795932, 1218.88963687,\n",
       "       1340.14659698,  872.04839711,  911.44781398, 1931.24656442,\n",
       "       1844.99149476, 1273.95179841, 1208.43838949, 1229.84270886,\n",
       "        915.17707167, 1228.59369302, 1155.50215728, 1291.76016403,\n",
       "       1319.38559286, 1725.19595322, 1079.52041907, 1655.50605814,\n",
       "       1278.78698661,  915.93059609, 1049.27259338, 1010.44599511,\n",
       "       1201.14126385, 1885.94796694, 1858.62104361, 1701.44792621,\n",
       "        808.22688683, 1226.6662901 , 1221.34785283, 1334.03573278,\n",
       "       1752.82653646, 1182.26053756, 1105.12669952, 1325.35249377,\n",
       "       1408.71652572, 1283.82116194,  807.81879041, 1234.45978661,\n",
       "       1856.47607909, 1777.61846059, 1051.41860655, 1195.59535363,\n",
       "       1258.43662624, 1130.63864714, 1544.87594472, 1719.37559454,\n",
       "       1186.72932596, 1258.92348459, 1955.07063493,  799.55604606,\n",
       "       1183.46517224, 1290.57276233,  903.9023438 , 1766.95731723,\n",
       "       1219.93960307, 1607.89681865,  958.30991818, 1902.79471488,\n",
       "       1322.75381617, 1294.41397624, 1233.90345032, 1777.66672105,\n",
       "       1107.70673593, 1740.76672465, 1212.84186066, 1786.69849771,\n",
       "        904.76442848, 1346.8064221 , 1566.01431275,  768.29730292,\n",
       "       1817.06294241, 1634.13125766, 1311.879152  , 1332.56571283,\n",
       "       1107.60334629, 1728.69882081, 1783.29313851, 1530.82624083,\n",
       "       1333.80607566,  824.91475424,  905.53978795, 1674.21747687,\n",
       "        922.47179304, 1336.60417422, 1198.43122333, 1191.01799156,\n",
       "       1120.44997698, 1115.8014806 , 1647.40611775, 1282.83275743,\n",
       "       1081.36784977, 1271.83993681, 1550.85842475, 1106.10870833,\n",
       "       1317.08875579, 1416.083776  , 1643.07490241,  838.57524922,\n",
       "        933.67040819,  877.66446532, 1155.15113108, 1292.96575727,\n",
       "       1200.84677632, 1195.86368652, 1244.35636895, 1237.40499307,\n",
       "       1178.61305305, 1251.13705314, 1239.85937817, 1186.67498767,\n",
       "        934.20508623, 1574.02804271, 1826.53689089, 1129.53135426,\n",
       "       1287.12770538, 1730.95285629, 1223.75738993, 1744.56549619,\n",
       "       1213.40085796, 1676.65452925, 1310.84042759, 1196.92005235,\n",
       "        925.55883069, 1303.67762981, 1739.16850527, 1264.06039326,\n",
       "       1823.03710157, 1824.33026198, 1186.66874011, 1311.48036571,\n",
       "       1557.6996335 ,  949.24189317, 1405.9146088 , 1121.06739654,\n",
       "       1291.96251682, 1483.79547502, 1107.12710457, 1598.69209472,\n",
       "        958.51884024, 1188.53066438, 1240.55076443,  930.21228468,\n",
       "       1645.67585151, 1793.60967701, 1164.5668402 , 1573.45128446,\n",
       "       1463.7301817 , 1825.37900234, 1471.53952341, 1650.59555075,\n",
       "        754.24400088, 1678.41185677, 1282.56034996, 1672.01706795,\n",
       "       1156.21127814, 1244.87020399, 1391.18701287,  895.55318   ,\n",
       "       1299.86529241, 1071.53817243,  947.11948961, 1396.5080779 ,\n",
       "       1365.426527  , 1565.19475326, 1211.25548657, 1290.16282372,\n",
       "       1330.7035614 , 1383.87721233, 1663.34268989, 1229.85093447,\n",
       "        909.24347554, 1170.4507983 , 1281.28648006, 1921.65016444,\n",
       "        957.20427269, 1890.52706172,  913.64478083, 1128.02044159,\n",
       "       1198.45496419, 1619.46509966, 1725.11846816, 1713.26945206,\n",
       "       1674.30787356, 1182.43076151, 1184.98291617, 1802.6170457 ,\n",
       "       1031.38900664, 1210.87221419, 1714.01693794, 1650.36846901,\n",
       "       1227.99143157, 1331.13435214, 1723.472519  , 1135.11646966,\n",
       "       1564.72947953, 1230.72057373, 1222.37059883,  904.73930705,\n",
       "       1075.81863157, 1263.15789929, 1589.60864167,  910.73572975,\n",
       "       1186.47988032, 1105.82932903, 1080.13991545, 1235.17994816,\n",
       "       1268.27131277, 1086.78983691, 1139.36557534, 1658.94491269,\n",
       "       1755.45764496, 1336.20973368, 1303.87687652, 1186.56705894,\n",
       "       1091.00187606, 1282.27700197, 1945.7653412 , 1241.12815859,\n",
       "       1281.10227627,  971.65975321, 1295.86832499, 1223.54114676,\n",
       "       1607.40450086, 1214.39732124, 1163.01166105, 1137.79135896,\n",
       "       1658.67728158, 1823.32516365, 1191.35552784, 1519.8286646 ,\n",
       "       1735.15387134, 1306.39575345, 1355.84448447, 1341.26969632,\n",
       "       1482.59277349, 1154.50250597, 1608.56572371, 1193.51918792,\n",
       "       1255.41972913,  901.4975976 , 1728.90305712, 1276.08092404,\n",
       "       1836.43875028, 1666.83520131, 1622.02601547, 1234.69362574,\n",
       "       1176.34897348, 1273.05849364,  737.04794085, 1409.52855691,\n",
       "       1290.52370038, 1819.49144342, 1323.78482648, 1464.74895817,\n",
       "       1797.16216705, 1168.85907851, 1407.38801185, 1790.83580783,\n",
       "       1429.33489411, 1224.5360027 , 1407.75998634, 1572.04684656,\n",
       "       1338.18902946, 1181.08773948, 1252.92238615, 1134.68659991,\n",
       "       1481.42139151, 1696.25539545, 1099.60379359, 1262.40133516,\n",
       "       1463.53522289,  917.44127282, 1215.60863765, 1310.02665423,\n",
       "       1260.83502225, 1470.12915336, 1433.4222582 , 1763.71113744,\n",
       "       1298.39553703, 1267.49195808, 1617.51464723, 1259.24586914,\n",
       "       1908.98809467, 1420.83708182, 1231.3829908 ,  973.07662143,\n",
       "       1217.58156446, 1105.41258625, 1238.54520035, 1778.53230107,\n",
       "       1766.18726601,  859.89199252, 1188.76999484,  928.64408685,\n",
       "       1402.45273756, 1117.40173403, 1287.82277123,  777.34201219,\n",
       "       1267.82587607, 1410.17719593, 1090.72034777, 1227.84705151,\n",
       "       1263.79555733,  895.17932812, 1230.26303232, 1729.20168843,\n",
       "       1552.94852864, 1348.74319313,  830.966427  , 1904.58195329,\n",
       "        898.78666704, 1664.26503584, 1265.68541244, 1251.98712487,\n",
       "       1316.15115575, 1291.80923988, 1250.57656594, 1186.3056968 ,\n",
       "       1289.42502789, 1128.22637459, 1301.65829655, 1780.27429914,\n",
       "       1743.66287701])"
      ]
     },
     "execution_count": 19,
     "metadata": {},
     "output_type": "execute_result"
    }
   ],
   "source": [
    "# Predict value print\n",
    "pred"
   ]
  },
  {
   "cell_type": "code",
   "execution_count": 16,
   "metadata": {},
   "outputs": [
    {
     "name": "stdout",
     "output_type": "stream",
     "text": [
      "**************************************************\n",
      "*  Mean Square Error: 30.603609421197696\n",
      "*  Root Mean Square Error: 5.532052912002713\n",
      "*  r2_score: 0.9996200981240283\n",
      "**************************************************\n"
     ]
    }
   ],
   "source": [
    "# MSE (Mean Square Error)\n",
    "# RMSE (Root Mean Square Error)\n",
    "# r2_square --> 1.0 -> Very Good Model\n",
    "\n",
    "from sklearn.metrics import mean_squared_error, r2_score\n",
    "\n",
    "def calculate_metrics(y_test, y_pred):\n",
    "    '''\n",
    "        y_test: ground truth\n",
    "        y_pred: model predict value\n",
    "    '''\n",
    "    mse = mean_squared_error(y_test, y_pred)\n",
    "    rmse = np.sqrt(mse)\n",
    "    r2_scores = r2_score(y_test, y_pred)\n",
    "    print('*'*50)\n",
    "    print(f\"*  Mean Square Error: {mse}\")\n",
    "    print(f\"*  Root Mean Square Error: {rmse}\")\n",
    "    print(f\"*  r2_score: {r2_scores}\")\n",
    "    print('*'*50)\n",
    "\n",
    "calculate_metrics(y_test, pred)"
   ]
  },
  {
   "cell_type": "markdown",
   "metadata": {},
   "source": [
    "### Lasso and Ridge Model"
   ]
  },
  {
   "cell_type": "code",
   "execution_count": 17,
   "metadata": {},
   "outputs": [],
   "source": [
    "from sklearn.linear_model import Lasso, Ridge\n",
    "\n",
    "model_lasso = Lasso().fit(X_train, y_train)\n",
    "model_ridge = Ridge().fit(X_train, y_train)\n",
    "\n",
    "model_lasso_pred = model_lasso.predict(X_test)\n",
    "model_ridge_pred = model_ridge.predict(X_test)"
   ]
  },
  {
   "cell_type": "code",
   "execution_count": 18,
   "metadata": {},
   "outputs": [
    {
     "name": "stdout",
     "output_type": "stream",
     "text": [
      "**************************************************\n",
      "*  Mean Square Error: 60.07663515535179\n",
      "*  Root Mean Square Error: 7.750911891858389\n",
      "*  r2_score: 0.9992542308953343\n",
      "**************************************************\n",
      "**************************************************\n",
      "*  Mean Square Error: 30.603630749258734\n",
      "*  Root Mean Square Error: 5.532054839682877\n",
      "*  r2_score: 0.9996200978592696\n",
      "**************************************************\n"
     ]
    }
   ],
   "source": [
    "calculate_metrics(y_test, model_lasso_pred)\n",
    "\n",
    "calculate_metrics(y_test, model_ridge_pred)"
   ]
  },
  {
   "cell_type": "markdown",
   "metadata": {},
   "source": [
    "## Support Vector Machine Regression"
   ]
  },
  {
   "cell_type": "code",
   "execution_count": 19,
   "metadata": {},
   "outputs": [
    {
     "name": "stdout",
     "output_type": "stream",
     "text": [
      "Fitting 5 folds for each of 25 candidates, totalling 125 fits\n",
      "[CV 1/5] END .......C=0.1, gamma=1, kernel=rbf;, score=-0.056 total time=   3.5s\n",
      "[CV 2/5] END .......C=0.1, gamma=1, kernel=rbf;, score=-0.040 total time=   4.1s\n",
      "[CV 3/5] END .......C=0.1, gamma=1, kernel=rbf;, score=-0.020 total time=   4.3s\n",
      "[CV 4/5] END .......C=0.1, gamma=1, kernel=rbf;, score=-0.018 total time=   4.9s\n",
      "[CV 5/5] END .......C=0.1, gamma=1, kernel=rbf;, score=-0.051 total time=   5.8s\n",
      "[CV 1/5] END .....C=0.1, gamma=0.1, kernel=rbf;, score=-0.056 total time=   4.1s\n",
      "[CV 2/5] END .....C=0.1, gamma=0.1, kernel=rbf;, score=-0.040 total time=   5.0s\n",
      "[CV 3/5] END .....C=0.1, gamma=0.1, kernel=rbf;, score=-0.020 total time=   3.8s\n",
      "[CV 4/5] END .....C=0.1, gamma=0.1, kernel=rbf;, score=-0.018 total time=   5.8s\n",
      "[CV 5/5] END .....C=0.1, gamma=0.1, kernel=rbf;, score=-0.051 total time=   4.0s\n",
      "[CV 1/5] END ....C=0.1, gamma=0.01, kernel=rbf;, score=-0.056 total time=   3.9s\n",
      "[CV 2/5] END ....C=0.1, gamma=0.01, kernel=rbf;, score=-0.040 total time=   5.7s\n",
      "[CV 3/5] END ....C=0.1, gamma=0.01, kernel=rbf;, score=-0.019 total time=   8.7s\n",
      "[CV 4/5] END ....C=0.1, gamma=0.01, kernel=rbf;, score=-0.017 total time=   4.0s\n",
      "[CV 5/5] END ....C=0.1, gamma=0.01, kernel=rbf;, score=-0.051 total time=   3.7s\n",
      "[CV 1/5] END ...C=0.1, gamma=0.001, kernel=rbf;, score=-0.053 total time=   3.3s\n",
      "[CV 2/5] END ...C=0.1, gamma=0.001, kernel=rbf;, score=-0.036 total time=   3.2s\n",
      "[CV 3/5] END ...C=0.1, gamma=0.001, kernel=rbf;, score=-0.016 total time=   3.2s\n",
      "[CV 4/5] END ...C=0.1, gamma=0.001, kernel=rbf;, score=-0.014 total time=   3.0s\n",
      "[CV 5/5] END ...C=0.1, gamma=0.001, kernel=rbf;, score=-0.049 total time=   3.1s\n",
      "[CV 1/5] END ..C=0.1, gamma=0.0001, kernel=rbf;, score=-0.033 total time=   2.9s\n",
      "[CV 2/5] END ..C=0.1, gamma=0.0001, kernel=rbf;, score=-0.017 total time=   3.0s\n",
      "[CV 3/5] END ...C=0.1, gamma=0.0001, kernel=rbf;, score=0.004 total time=   3.0s\n",
      "[CV 4/5] END ...C=0.1, gamma=0.0001, kernel=rbf;, score=0.007 total time=   3.9s\n",
      "[CV 5/5] END ..C=0.1, gamma=0.0001, kernel=rbf;, score=-0.027 total time=   3.4s\n",
      "[CV 1/5] END .........C=1, gamma=1, kernel=rbf;, score=-0.056 total time=   3.8s\n",
      "[CV 2/5] END .........C=1, gamma=1, kernel=rbf;, score=-0.040 total time=   3.7s\n",
      "[CV 3/5] END .........C=1, gamma=1, kernel=rbf;, score=-0.020 total time=   3.4s\n",
      "[CV 4/5] END .........C=1, gamma=1, kernel=rbf;, score=-0.018 total time=   2.9s\n",
      "[CV 5/5] END .........C=1, gamma=1, kernel=rbf;, score=-0.052 total time=   2.8s\n",
      "[CV 1/5] END .......C=1, gamma=0.1, kernel=rbf;, score=-0.056 total time=   2.8s\n",
      "[CV 2/5] END .......C=1, gamma=0.1, kernel=rbf;, score=-0.040 total time=   3.4s\n",
      "[CV 3/5] END .......C=1, gamma=0.1, kernel=rbf;, score=-0.019 total time=   5.3s\n",
      "[CV 4/5] END .......C=1, gamma=0.1, kernel=rbf;, score=-0.017 total time=   3.3s\n",
      "[CV 5/5] END .......C=1, gamma=0.1, kernel=rbf;, score=-0.051 total time=   3.6s\n",
      "[CV 1/5] END ......C=1, gamma=0.01, kernel=rbf;, score=-0.052 total time=   2.9s\n",
      "[CV 2/5] END ......C=1, gamma=0.01, kernel=rbf;, score=-0.036 total time=   3.2s\n",
      "[CV 3/5] END ......C=1, gamma=0.01, kernel=rbf;, score=-0.016 total time=   3.4s\n",
      "[CV 4/5] END ......C=1, gamma=0.01, kernel=rbf;, score=-0.014 total time=   3.5s\n",
      "[CV 5/5] END ......C=1, gamma=0.01, kernel=rbf;, score=-0.049 total time=   3.0s\n",
      "[CV 1/5] END .....C=1, gamma=0.001, kernel=rbf;, score=-0.027 total time=   4.3s\n",
      "[CV 2/5] END .....C=1, gamma=0.001, kernel=rbf;, score=-0.011 total time=   3.4s\n",
      "[CV 3/5] END ......C=1, gamma=0.001, kernel=rbf;, score=0.011 total time=   3.1s\n",
      "[CV 4/5] END ......C=1, gamma=0.001, kernel=rbf;, score=0.013 total time=   3.0s\n",
      "[CV 5/5] END .....C=1, gamma=0.001, kernel=rbf;, score=-0.022 total time=   4.0s\n",
      "[CV 1/5] END .....C=1, gamma=0.0001, kernel=rbf;, score=0.125 total time=   2.7s\n",
      "[CV 2/5] END .....C=1, gamma=0.0001, kernel=rbf;, score=0.153 total time=   4.1s\n",
      "[CV 3/5] END .....C=1, gamma=0.0001, kernel=rbf;, score=0.168 total time=   2.7s\n",
      "[CV 4/5] END .....C=1, gamma=0.0001, kernel=rbf;, score=0.177 total time=   2.6s\n",
      "[CV 5/5] END .....C=1, gamma=0.0001, kernel=rbf;, score=0.149 total time=   2.7s\n",
      "[CV 1/5] END ........C=10, gamma=1, kernel=rbf;, score=-0.055 total time=   3.3s\n",
      "[CV 2/5] END ........C=10, gamma=1, kernel=rbf;, score=-0.039 total time=   3.7s\n",
      "[CV 3/5] END ........C=10, gamma=1, kernel=rbf;, score=-0.019 total time=   3.3s\n",
      "[CV 4/5] END ........C=10, gamma=1, kernel=rbf;, score=-0.018 total time=   3.3s\n",
      "[CV 5/5] END ........C=10, gamma=1, kernel=rbf;, score=-0.051 total time=   3.3s\n",
      "[CV 1/5] END ......C=10, gamma=0.1, kernel=rbf;, score=-0.054 total time=   3.3s\n",
      "[CV 2/5] END ......C=10, gamma=0.1, kernel=rbf;, score=-0.038 total time=   3.3s\n",
      "[CV 3/5] END ......C=10, gamma=0.1, kernel=rbf;, score=-0.017 total time=   3.2s\n",
      "[CV 4/5] END ......C=10, gamma=0.1, kernel=rbf;, score=-0.016 total time=   3.4s\n",
      "[CV 5/5] END ......C=10, gamma=0.1, kernel=rbf;, score=-0.050 total time=   3.3s\n",
      "[CV 1/5] END .....C=10, gamma=0.01, kernel=rbf;, score=-0.031 total time=   5.3s\n",
      "[CV 2/5] END .....C=10, gamma=0.01, kernel=rbf;, score=-0.014 total time=   3.0s\n",
      "[CV 3/5] END ......C=10, gamma=0.01, kernel=rbf;, score=0.006 total time=   2.9s\n",
      "[CV 4/5] END ......C=10, gamma=0.01, kernel=rbf;, score=0.006 total time=   2.9s\n",
      "[CV 5/5] END .....C=10, gamma=0.01, kernel=rbf;, score=-0.027 total time=   2.8s\n",
      "[CV 1/5] END .....C=10, gamma=0.001, kernel=rbf;, score=0.154 total time=   2.7s\n",
      "[CV 2/5] END .....C=10, gamma=0.001, kernel=rbf;, score=0.187 total time=   2.7s\n",
      "[CV 3/5] END .....C=10, gamma=0.001, kernel=rbf;, score=0.199 total time=   3.0s\n",
      "[CV 4/5] END .....C=10, gamma=0.001, kernel=rbf;, score=0.208 total time=   2.6s\n",
      "[CV 5/5] END .....C=10, gamma=0.001, kernel=rbf;, score=0.179 total time=   2.7s\n",
      "[CV 1/5] END ....C=10, gamma=0.0001, kernel=rbf;, score=0.596 total time=   2.6s\n",
      "[CV 2/5] END ....C=10, gamma=0.0001, kernel=rbf;, score=0.682 total time=   2.5s\n",
      "[CV 3/5] END ....C=10, gamma=0.0001, kernel=rbf;, score=0.677 total time=   2.5s\n",
      "[CV 4/5] END ....C=10, gamma=0.0001, kernel=rbf;, score=0.670 total time=   2.5s\n",
      "[CV 5/5] END ....C=10, gamma=0.0001, kernel=rbf;, score=0.686 total time=   2.5s\n",
      "[CV 1/5] END .......C=100, gamma=1, kernel=rbf;, score=-0.045 total time=   3.8s\n",
      "[CV 2/5] END .......C=100, gamma=1, kernel=rbf;, score=-0.031 total time=   4.4s\n",
      "[CV 3/5] END .......C=100, gamma=1, kernel=rbf;, score=-0.012 total time=   5.0s\n",
      "[CV 4/5] END .......C=100, gamma=1, kernel=rbf;, score=-0.010 total time=   3.1s\n",
      "[CV 5/5] END .......C=100, gamma=1, kernel=rbf;, score=-0.038 total time=   3.8s\n",
      "[CV 1/5] END .....C=100, gamma=0.1, kernel=rbf;, score=-0.033 total time=   3.3s\n",
      "[CV 2/5] END .....C=100, gamma=0.1, kernel=rbf;, score=-0.018 total time=   3.2s\n",
      "[CV 3/5] END .....C=100, gamma=0.1, kernel=rbf;, score=-0.000 total time=   3.1s\n",
      "[CV 4/5] END .....C=100, gamma=0.1, kernel=rbf;, score=-0.000 total time=   3.1s\n",
      "[CV 5/5] END .....C=100, gamma=0.1, kernel=rbf;, score=-0.025 total time=   3.1s\n",
      "[CV 1/5] END .....C=100, gamma=0.01, kernel=rbf;, score=0.116 total time=   3.5s\n",
      "[CV 2/5] END .....C=100, gamma=0.01, kernel=rbf;, score=0.147 total time=   3.6s\n",
      "[CV 3/5] END .....C=100, gamma=0.01, kernel=rbf;, score=0.142 total time=   3.5s\n",
      "[CV 4/5] END .....C=100, gamma=0.01, kernel=rbf;, score=0.132 total time=   3.5s\n",
      "[CV 5/5] END .....C=100, gamma=0.01, kernel=rbf;, score=0.129 total time=   3.4s\n",
      "[CV 1/5] END ....C=100, gamma=0.001, kernel=rbf;, score=0.562 total time=   6.1s\n",
      "[CV 2/5] END ....C=100, gamma=0.001, kernel=rbf;, score=0.625 total time=   5.7s\n",
      "[CV 3/5] END ....C=100, gamma=0.001, kernel=rbf;, score=0.658 total time=   6.4s\n",
      "[CV 4/5] END ....C=100, gamma=0.001, kernel=rbf;, score=0.643 total time=   5.6s\n",
      "[CV 5/5] END ....C=100, gamma=0.001, kernel=rbf;, score=0.638 total time=   5.5s\n",
      "[CV 1/5] END ...C=100, gamma=0.0001, kernel=rbf;, score=0.839 total time=   5.6s\n",
      "[CV 2/5] END ...C=100, gamma=0.0001, kernel=rbf;, score=0.870 total time=   5.4s\n",
      "[CV 3/5] END ...C=100, gamma=0.0001, kernel=rbf;, score=0.887 total time=   5.9s\n",
      "[CV 4/5] END ...C=100, gamma=0.0001, kernel=rbf;, score=0.873 total time=   5.1s\n",
      "[CV 5/5] END ...C=100, gamma=0.0001, kernel=rbf;, score=0.910 total time=   5.9s\n",
      "[CV 1/5] END ......C=1000, gamma=1, kernel=rbf;, score=-0.004 total time=   4.1s\n",
      "[CV 2/5] END .......C=1000, gamma=1, kernel=rbf;, score=0.000 total time=   4.0s\n",
      "[CV 3/5] END ......C=1000, gamma=1, kernel=rbf;, score=-0.003 total time=   3.9s\n",
      "[CV 4/5] END ......C=1000, gamma=1, kernel=rbf;, score=-0.004 total time=   4.3s\n",
      "[CV 5/5] END .......C=1000, gamma=1, kernel=rbf;, score=0.001 total time=   3.9s\n",
      "[CV 1/5] END .....C=1000, gamma=0.1, kernel=rbf;, score=0.023 total time=   4.0s\n",
      "[CV 2/5] END .....C=1000, gamma=0.1, kernel=rbf;, score=0.030 total time=   4.0s\n",
      "[CV 3/5] END .....C=1000, gamma=0.1, kernel=rbf;, score=0.027 total time=   4.1s\n",
      "[CV 4/5] END .....C=1000, gamma=0.1, kernel=rbf;, score=0.016 total time=   4.0s\n",
      "[CV 5/5] END .....C=1000, gamma=0.1, kernel=rbf;, score=0.031 total time=   3.9s\n",
      "[CV 1/5] END ....C=1000, gamma=0.01, kernel=rbf;, score=0.256 total time=   6.0s\n",
      "[CV 2/5] END ....C=1000, gamma=0.01, kernel=rbf;, score=0.301 total time=   7.7s\n",
      "[CV 3/5] END ....C=1000, gamma=0.01, kernel=rbf;, score=0.280 total time=   8.1s\n",
      "[CV 4/5] END ....C=1000, gamma=0.01, kernel=rbf;, score=0.252 total time=   7.4s\n",
      "[CV 5/5] END ....C=1000, gamma=0.01, kernel=rbf;, score=0.282 total time=   5.9s\n",
      "[CV 1/5] END ...C=1000, gamma=0.001, kernel=rbf;, score=0.687 total time=  39.9s\n",
      "[CV 2/5] END ...C=1000, gamma=0.001, kernel=rbf;, score=0.750 total time=  36.6s\n",
      "[CV 3/5] END ...C=1000, gamma=0.001, kernel=rbf;, score=0.771 total time=  34.9s\n",
      "[CV 4/5] END ...C=1000, gamma=0.001, kernel=rbf;, score=0.764 total time=  36.1s\n",
      "[CV 5/5] END ...C=1000, gamma=0.001, kernel=rbf;, score=0.778 total time=  43.6s\n",
      "[CV 1/5] END ..C=1000, gamma=0.0001, kernel=rbf;, score=0.890 total time=  52.0s\n",
      "[CV 2/5] END ..C=1000, gamma=0.0001, kernel=rbf;, score=0.904 total time= 1.1min\n",
      "[CV 3/5] END ..C=1000, gamma=0.0001, kernel=rbf;, score=0.905 total time=  52.0s\n",
      "[CV 4/5] END ..C=1000, gamma=0.0001, kernel=rbf;, score=0.906 total time=  48.7s\n",
      "[CV 5/5] END ..C=1000, gamma=0.0001, kernel=rbf;, score=0.935 total time= 1.1min\n"
     ]
    },
    {
     "data": {
      "text/plain": [
       "GridSearchCV(estimator=SVR(),\n",
       "             param_grid={'C': [0.1, 1, 10, 100, 1000],\n",
       "                         'gamma': [1, 0.1, 0.01, 0.001, 0.0001],\n",
       "                         'kernel': ['rbf']},\n",
       "             verbose=3)"
      ]
     },
     "execution_count": 19,
     "metadata": {},
     "output_type": "execute_result"
    }
   ],
   "source": [
    "from sklearn.svm import SVR\n",
    "from sklearn.model_selection import GridSearchCV\n",
    "\n",
    "params = {\n",
    "    'C': [0.1, 1, 10, 100, 1000],\n",
    "    'gamma': [1, 0.1, 0.01, 0.001, 0.0001],\n",
    "    'kernel': ['rbf']\n",
    "}\n",
    "\n",
    "params_grid = GridSearchCV(SVR(), params, refit=True, verbose=3)\n",
    "params_grid.fit(X_train, y_train)"
   ]
  },
  {
   "cell_type": "code",
   "execution_count": 20,
   "metadata": {},
   "outputs": [],
   "source": [
    "model_svr = SVR(C=10, gamma=0.1, kernel='rbf')\n",
    "model_svr.fit(X_train, y_train)\n",
    "svr_pred = model_svr.predict(X_test)"
   ]
  },
  {
   "cell_type": "markdown",
   "metadata": {},
   "source": [
    "## Model Save"
   ]
  },
  {
   "cell_type": "code",
   "execution_count": 25,
   "metadata": {},
   "outputs": [],
   "source": [
    "import joblib  \n",
    "\n",
    "joblib.dump(model_ridge, 'model.pkl') \n",
    "\n",
    "ridge_from_joblib = model = joblib.load(\"model.pkl\")"
   ]
  },
  {
   "cell_type": "code",
   "execution_count": null,
   "metadata": {},
   "outputs": [],
   "source": []
  }
 ],
 "metadata": {
  "interpreter": {
   "hash": "3493f2f7deba3aca905526d6a293108d143469a55215d28c46da96f9e219d05e"
  },
  "kernelspec": {
   "display_name": "Python 3.9.7 64-bit ('myenv': conda)",
   "language": "python",
   "name": "python3"
  },
  "language_info": {
   "codemirror_mode": {
    "name": "ipython",
    "version": 3
   },
   "file_extension": ".py",
   "mimetype": "text/x-python",
   "name": "python",
   "nbconvert_exporter": "python",
   "pygments_lexer": "ipython3",
   "version": "3.9.7"
  },
  "orig_nbformat": 4
 },
 "nbformat": 4,
 "nbformat_minor": 2
}
